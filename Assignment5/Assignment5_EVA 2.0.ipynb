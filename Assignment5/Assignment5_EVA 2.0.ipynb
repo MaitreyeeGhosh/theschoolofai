{
  "nbformat": 4,
  "nbformat_minor": 0,
  "metadata": {
    "accelerator": "GPU",
    "colab": {
      "name": "Assignment5_EVA2.0.ipynb",
      "version": "0.3.2",
      "provenance": [],
      "collapsed_sections": []
    },
    "kernelspec": {
      "display_name": "Python 3",
      "language": "python",
      "name": "python3"
    },
    "language_info": {
      "codemirror_mode": {
        "name": "ipython",
        "version": 3
      },
      "file_extension": ".py",
      "mimetype": "text/x-python",
      "name": "python",
      "nbconvert_exporter": "python",
      "pygments_lexer": "ipython3",
      "version": "3.6.5"
    }
  },
  "cells": [
    {
      "cell_type": "markdown",
      "metadata": {
        "colab_type": "text",
        "id": "aNyZv-Ec52ot"
      },
      "source": [
        "Assignment 5\n",
        "============\n",
        "\n",
        "Name : Nihar Kanungo\n",
        "Batch : 6:30 AM , Monday\n",
        "\n",
        "\n",
        "**Background :**\n",
        "- - - - - - - -\n",
        "This is a simple Image Recognition program which makes use of the MNIST preprocessed dataset to process the handwritten digit images and predict the numerical digit each image resents . The Code uses one of the most popular Tensorflow API Keras to perform the operations .It's a supervised Computer Vision problem.\n",
        "\n",
        "There are 4 different networks defined in this file . Each network defined in this file is an improvement over it's Predecessor. \n",
        "\n",
        "Network -1 : This is the Basic Network which defines the template over which the improvements will be added. The Basic network here refers to the final code of Assignment -5 \n",
        "\n",
        "Network -2 : This Network works on the Normalized image after the images are standardized  Network-1\n",
        "\n",
        "Network -3 : This Network adds custom loss functin which is L2 regularization added to the cross entropy loss to penalize the bigger weights \n",
        "\n",
        "Network -4 : This Network reverses the order in which batch normalization and activation function was used. In this network we are using batch normalization before the activation function but after the convolution. That means the activation is currently happening external to the convolution function \n",
        "\n",
        "\n",
        "\n",
        "**Input**\n",
        "- - - -\n",
        "1) 60000 Handwritten digit images (between 0-9)\n",
        "\n",
        "2) The Images are already segreegated as Train and Test Data with the respective target values\n",
        "\n",
        "\n",
        "**Environment**\n",
        "- - - - - - - - \n",
        "\n",
        "    Development - Colab GPU , Jupyter Notebook\n",
        "    Repository : Github\n",
        "\n",
        "**Algorithm**\n",
        "- - - - - - \n",
        "    Linear Model \n",
        "    Convolutional Neural Network (2D) - Gray Scale images\n",
        "    Maxpooling \n",
        "    Softmax Activation function\n",
        "    loss Function : Categorical Crossentropy\n",
        "    Optimizer=Adam\n",
        "    Metrics=accuracy\n",
        "    Batch Normalization\n",
        "    Drop Out \n",
        "    Image Normalization\n",
        "    Customized Loss function (Loss function _ L2 Regularization)\n",
        "\n",
        "\n",
        "**Parameters**\n",
        "- - - - - - ---------------------\n",
        "\n",
        "    Batch Size - Variable \n",
        "    Epochs - Variable\n",
        "    Kernel Size - Variable (Advisable to use 3 * 3)\n",
        "    Number of Kernels - Variable \n",
        "    Learning Rate\n",
        "    regularization coefficient\n",
        "    \n",
        "\n",
        "**Conditions**\n",
        "- - - - - -\n",
        "\n",
        "1. The Number of parameters < 15,000\n",
        "2. Should use only Conv2D\n",
        "3. Should not have applied Maxpooling before 2-4 layers of the conversion into number of classes (10 in this case)\n",
        "4. Maxpooling should be applied on receptive field of at least 5 x 5 or 7 x 7\n",
        "5. Activation function should be relu on conv 2D\n",
        "6. With < 15 EPochs\n",
        "7. Image Normalization should be used first\n",
        "8. L2 regularization should not be added to each layer \n",
        "9. Batch Normalization should be used before the Activation function\n",
        "**Expected Result**\n",
        "\n",
        "- - - - - - - - -\n",
        "To get >= 99.4 % accuracy \n",
        "To find the first 25 misclassified images\n",
        "Save the Best model w.r.t the Validation accuracy\n",
        "Save the model in the Google drive for future use \n",
        "\n",
        "\n"
      ]
    },
    {
      "cell_type": "markdown",
      "metadata": {
        "colab_type": "text",
        "id": "A_JGIXQ8EAO_"
      },
      "source": [
        "# **Import Libraries and modules**\n",
        "\n"
      ]
    },
    {
      "cell_type": "code",
      "metadata": {
        "colab_type": "code",
        "id": "3m3w1Cw49Zkt",
        "colab": {
          "base_uri": "https://localhost:8080/",
          "height": 34
        },
        "outputId": "ca2f7b44-5f03-474f-8e46-cd1ca0cbe23a"
      },
      "source": [
        "# https://keras.io/\n",
        "!pip install -q keras\n",
        "import keras"
      ],
      "execution_count": 2,
      "outputs": [
        {
          "output_type": "stream",
          "text": [
            "Using TensorFlow backend.\n"
          ],
          "name": "stderr"
        }
      ]
    },
    {
      "cell_type": "code",
      "metadata": {
        "colab_type": "code",
        "id": "Eso6UHE080D4",
        "colab": {
          "base_uri": "https://localhost:8080/",
          "height": 170
        },
        "outputId": "c384c713-c8c6-4ddf-ae7a-c3543ba6dd9c"
      },
      "source": [
        "import numpy as np\n",
        "import pandas as pd\n",
        "from keras.models import Sequential\n",
        "from keras.layers import Dense, Dropout, Activation, Flatten, Add,BatchNormalization\n",
        "from keras.layers import Convolution2D, MaxPooling2D\n",
        "from keras.utils import np_utils\n",
        "from keras import backend as K\n",
        "from IPython.display import Image\n",
        "from keras.optimizers import Adam, SGD, Nadam\n",
        "from keras.callbacks import LearningRateScheduler\n",
        "from matplotlib import pyplot as plt\n",
        "from keras.layers import BatchNormalization\n",
        "from keras.callbacks import EarlyStopping, ModelCheckpoint, ReduceLROnPlateau, LearningRateScheduler\n",
        "from keras.preprocessing.image import ImageDataGenerator\n",
        "\n",
        "from keras.datasets import mnist\n",
        "\n",
        "import time\n",
        "import gc\n",
        "import os\n",
        "import sys\n",
        "import dill\n",
        "import tensorflow as tf\n",
        "slim = tf.contrib.slim\n",
        "import warnings\n",
        "warnings.filterwarnings(\"ignore\")\n",
        "%matplotlib inline\n",
        "import tensorflow_probability as tfp\n",
        "import tensorflow as tf\n",
        "from keras.preprocessing.image import ImageDataGenerator\n",
        "from keras.regularizers import l2\n",
        "from IPython.core.interactiveshell import InteractiveShell\n",
        "InteractiveShell.ast_node_interactivity = \"all\""
      ],
      "execution_count": 4,
      "outputs": [
        {
          "output_type": "stream",
          "text": [
            "WARNING: Logging before flag parsing goes to stderr.\n",
            "W0819 17:18:04.678384 140531037792128 lazy_loader.py:50] \n",
            "The TensorFlow contrib module will not be included in TensorFlow 2.0.\n",
            "For more information, please see:\n",
            "  * https://github.com/tensorflow/community/blob/master/rfcs/20180907-contrib-sunset.md\n",
            "  * https://github.com/tensorflow/addons\n",
            "  * https://github.com/tensorflow/io (for I/O related ops)\n",
            "If you depend on functionality not listed there, please file an issue.\n",
            "\n"
          ],
          "name": "stderr"
        }
      ]
    },
    {
      "cell_type": "markdown",
      "metadata": {
        "colab_type": "text",
        "id": "zByEi95J86RD"
      },
      "source": [
        "### Load pre-shuffled MNIST data into train and test sets"
      ]
    },
    {
      "cell_type": "code",
      "metadata": {
        "colab_type": "code",
        "id": "7eRM0QWN83PV",
        "outputId": "b435af19-40da-46a9-a7b4-6604b300dc39",
        "colab": {
          "base_uri": "https://localhost:8080/",
          "height": 51
        }
      },
      "source": [
        "(X_train, y_train), (X_test, y_test) = mnist.load_data()"
      ],
      "execution_count": 5,
      "outputs": [
        {
          "output_type": "stream",
          "text": [
            "Downloading data from https://s3.amazonaws.com/img-datasets/mnist.npz\n",
            "11493376/11490434 [==============================] - 1s 0us/step\n"
          ],
          "name": "stdout"
        }
      ]
    },
    {
      "cell_type": "markdown",
      "metadata": {
        "colab_type": "text",
        "id": "1hzKCdZmEAPM"
      },
      "source": [
        "# Print Metadata Information \n",
        "1. Print the shape of the Training Dataset (Number of Images, Size of the images)\n",
        "2. Import one of the popular library to plot charts/graphs and command to display it inline\n",
        "3. Code to show the data"
      ]
    },
    {
      "cell_type": "code",
      "metadata": {
        "colab_type": "code",
        "id": "4a4Be72j8-ZC",
        "outputId": "0e2fbb8c-cdb8-4a6a-9948-ab0ad7e268c9",
        "colab": {
          "base_uri": "https://localhost:8080/",
          "height": 303
        }
      },
      "source": [
        "\n",
        "print (X_train.shape)\n",
        "from matplotlib import pyplot as plt\n",
        "%matplotlib inline\n",
        "\n",
        "plt.imshow(X_train[0])"
      ],
      "execution_count": 6,
      "outputs": [
        {
          "output_type": "stream",
          "text": [
            "(60000, 28, 28)\n"
          ],
          "name": "stdout"
        },
        {
          "output_type": "execute_result",
          "data": {
            "text/plain": [
              "<matplotlib.image.AxesImage at 0x7fcf943f6c18>"
            ]
          },
          "metadata": {
            "tags": []
          },
          "execution_count": 6
        },
        {
          "output_type": "display_data",
          "data": {
            "image/png": "[encoded data removed]",
            "text/plain": [
              "<Figure size 432x288 with 1 Axes>"
            ]
          },
          "metadata": {
            "tags": []
          }
        }
      ]
    },
    {
      "cell_type": "markdown",
      "metadata": {
        "colab_type": "text",
        "id": "WDO4QtQTEAPR"
      },
      "source": [
        "#Reshape the Training and test data to gray scale"
      ]
    },
    {
      "cell_type": "code",
      "metadata": {
        "colab_type": "code",
        "id": "dkmprriw9AnZ",
        "colab": {}
      },
      "source": [
        "X_train = X_train.reshape(X_train.shape[0], 28, 28,1)\n",
        "X_test = X_test.reshape(X_test.shape[0], 28, 28,1)"
      ],
      "execution_count": 0,
      "outputs": []
    },
    {
      "cell_type": "markdown",
      "metadata": {
        "colab_type": "text",
        "id": "PGJ9Z5rLEAPV"
      },
      "source": [
        "# Perform Data Standardization \n",
        "1. Convert the Images into float32 format\n",
        "2. Divide the values by 255 to make it with in 0-1 (Standardize)"
      ]
    },
    {
      "cell_type": "code",
      "metadata": {
        "colab_type": "code",
        "id": "X2m4YS4E9CRh",
        "colab": {}
      },
      "source": [
        "X_train = X_train.astype('float32')\n",
        "X_test = X_test.astype('float32')\n",
        "X_train /= 255\n",
        "X_test /= 255"
      ],
      "execution_count": 0,
      "outputs": []
    },
    {
      "cell_type": "markdown",
      "metadata": {
        "id": "RzeZYL7TwwA9",
        "colab_type": "text"
      },
      "source": [
        "# Convert 1-dimensional class arrays to 10-dimensional class matrices"
      ]
    },
    {
      "cell_type": "code",
      "metadata": {
        "colab_type": "code",
        "id": "ZG8JiXR39FHC",
        "colab": {}
      },
      "source": [
        "\n",
        "\n",
        "Y_train = np_utils.to_categorical(y_train, 10)\n",
        "Y_test = np_utils.to_categorical(y_test, 10)"
      ],
      "execution_count": 0,
      "outputs": []
    },
    {
      "cell_type": "markdown",
      "metadata": {
        "colab_type": "text",
        "id": "AV85Am_ZEAPm"
      },
      "source": [
        "***The Core Setup for this assignment ( this is the final code of assignment No 4)***\n",
        "=====================\n",
        "This core setup is going to be the basic framework . All the future codes will be improvements over this code but the basic setup will be unaltered . This would help us to understand the impact of each feature on our network. The Core setup is described below.\n",
        "\n",
        "1. Import the Activation layer \n",
        "2. Declare the Sequential model\n",
        "3. Add multiple convolution layers to increase the receptive field ( 3 x 3 kernels)\n",
        "4. Add Maxpooling to reduce the image size and increase the receptive field \n",
        "5. Use small dropout after each convolution to ensure that the model is not over fitting\n",
        "6. Add Batch normalization after activation of each layer to essure that the model is generalizing well\n",
        "7.Modify the learning rate after each epoch to converge \n",
        "5. Add a large kernel of size 5 x 5 at this stage as going below this may not show significant details of the images\n",
        "6. Flatten the data to make it 1D \n",
        "7. Apply Softmax on each output to find out the predicted class\n",
        "\n"
      ]
    },
    {
      "cell_type": "markdown",
      "metadata": {
        "colab_type": "text",
        "id": "lnDRKPvFEAPq"
      },
      "source": [
        "Display the Summary of the Model. This would give the detail parameters each layer uses . This would be a great information to find out how the memory will be used and where are oppertunities for fine tuning.\n",
        "\n",
        " The Total parameters used for this network is < 15000"
      ]
    },
    {
      "cell_type": "code",
      "metadata": {
        "colab_type": "code",
        "id": "9iSYhmXnJwRX",
        "outputId": "1c81e050-baa0-4a5d-b2a3-be4e513f0030",
        "colab": {
          "base_uri": "https://localhost:8080/",
          "height": 1000
        }
      },
      "source": [
        "model = Sequential()\n",
        "\n",
        " \n",
        "model.add(Convolution2D(8, 3, 3, activation='relu', input_shape=(28,28,1)))\n",
        "model.add(BatchNormalization())\n",
        "model.add(Dropout(0.1))\n",
        "model.add(Convolution2D(14, 3, 3, activation='relu'))\n",
        "model.add(BatchNormalization())\n",
        "model.add(Dropout(0.1))\n",
        "model.add(Convolution2D(24, 3, 3, activation='relu'))\n",
        "#model.add(BatchNormalization())\n",
        "model.add(MaxPooling2D(pool_size=(2, 2)))\n",
        "model.add(Convolution2D(8, 1, 1, activation='relu'))\n",
        "#model.add(BatchNormalization())\n",
        "#model.add(Dropout(0.1))\n",
        "model.add(Convolution2D(16, 3, 3, activation='relu'))\n",
        "model.add(BatchNormalization())\n",
        "model.add(Dropout(0.1))\n",
        "model.add(Convolution2D(16, 3, 3, activation='relu'))\n",
        "model.add(BatchNormalization())\n",
        "model.add(Dropout(0.1))\n",
        "model.add(Convolution2D(24, 3, 3, activation='relu'))\n",
        "model.add(BatchNormalization())\n",
        "model.add(Dropout(0.1))\n",
        "model.add(Convolution2D(10, 1, activation='relu'))\n",
        "model.add(BatchNormalization())\n",
        "model.add(Dropout(0.1))\n",
        "model.add(Convolution2D(10, 5))\n",
        "model.add(Flatten())\n",
        "model.add(Activation('softmax'))\n",
        "\n",
        "\n",
        "model.summary()\n",
        "\n",
        "\n",
        "def scheduler(epoch, lr):\n",
        "    return round(0.003 * 1/(1 + 0.319 * epoch), 10)\n",
        "\n",
        "model.compile(loss='categorical_crossentropy', optimizer=Adam(lr=0.003), metrics=['accuracy'])\n",
        "\n",
        "model.fit(X_train, Y_train, batch_size=32, epochs=15, verbose=1, validation_data=(X_test, Y_test), callbacks=[LearningRateScheduler(scheduler, verbose=1)])\n",
        "\n",
        "\n",
        "score = model.evaluate(X_test, Y_test, verbose=0)\n",
        "print(score)\n",
        "\n",
        "\n",
        "y_pred = model.predict(X_test)\n",
        "print(y_pred[:9])\n",
        "print(y_test[:9])\n",
        "\n"
      ],
      "execution_count": 185,
      "outputs": [
        {
          "output_type": "stream",
          "text": [
            "_________________________________________________________________\n",
            "Layer (type)                 Output Shape              Param #   \n",
            "=================================================================\n",
            "conv2d_154 (Conv2D)          (None, 26, 26, 8)         80        \n",
            "_________________________________________________________________\n",
            "batch_normalization_103 (Bat (None, 26, 26, 8)         32        \n",
            "_________________________________________________________________\n",
            "dropout_103 (Dropout)        (None, 26, 26, 8)         0         \n",
            "_________________________________________________________________\n",
            "conv2d_155 (Conv2D)          (None, 24, 24, 14)        1022      \n",
            "_________________________________________________________________\n",
            "batch_normalization_104 (Bat (None, 24, 24, 14)        56        \n",
            "_________________________________________________________________\n",
            "dropout_104 (Dropout)        (None, 24, 24, 14)        0         \n",
            "_________________________________________________________________\n",
            "conv2d_156 (Conv2D)          (None, 22, 22, 24)        3048      \n",
            "_________________________________________________________________\n",
            "max_pooling2d_18 (MaxPooling (None, 11, 11, 24)        0         \n",
            "_________________________________________________________________\n",
            "conv2d_157 (Conv2D)          (None, 11, 11, 8)         200       \n",
            "_________________________________________________________________\n",
            "conv2d_158 (Conv2D)          (None, 9, 9, 16)          1168      \n",
            "_________________________________________________________________\n",
            "batch_normalization_105 (Bat (None, 9, 9, 16)          64        \n",
            "_________________________________________________________________\n",
            "dropout_105 (Dropout)        (None, 9, 9, 16)          0         \n",
            "_________________________________________________________________\n",
            "conv2d_159 (Conv2D)          (None, 7, 7, 16)          2320      \n",
            "_________________________________________________________________\n",
            "batch_normalization_106 (Bat (None, 7, 7, 16)          64        \n",
            "_________________________________________________________________\n",
            "dropout_106 (Dropout)        (None, 7, 7, 16)          0         \n",
            "_________________________________________________________________\n",
            "conv2d_160 (Conv2D)          (None, 5, 5, 24)          3480      \n",
            "_________________________________________________________________\n",
            "batch_normalization_107 (Bat (None, 5, 5, 24)          96        \n",
            "_________________________________________________________________\n",
            "dropout_107 (Dropout)        (None, 5, 5, 24)          0         \n",
            "_________________________________________________________________\n",
            "conv2d_161 (Conv2D)          (None, 5, 5, 10)          250       \n",
            "_________________________________________________________________\n",
            "batch_normalization_108 (Bat (None, 5, 5, 10)          40        \n",
            "_________________________________________________________________\n",
            "dropout_108 (Dropout)        (None, 5, 5, 10)          0         \n",
            "_________________________________________________________________\n",
            "conv2d_162 (Conv2D)          (None, 1, 1, 10)          2510      \n",
            "_________________________________________________________________\n",
            "flatten_18 (Flatten)         (None, 10)                0         \n",
            "_________________________________________________________________\n",
            "activation_18 (Activation)   (None, 10)                0         \n",
            "=================================================================\n",
            "Total params: 14,430\n",
            "Trainable params: 14,254\n",
            "Non-trainable params: 176\n",
            "_________________________________________________________________\n",
            "Train on 60000 samples, validate on 10000 samples\n",
            "Epoch 1/15\n",
            "\n",
            "Epoch 00001: LearningRateScheduler setting learning rate to 0.003.\n",
            "60000/60000 [==============================] - 35s 586us/step - loss: 0.1670 - acc: 0.9474 - val_loss: 0.0528 - val_acc: 0.9829\n",
            "Epoch 2/15\n",
            "\n",
            "Epoch 00002: LearningRateScheduler setting learning rate to 0.0022744503.\n",
            "60000/60000 [==============================] - 25s 420us/step - loss: 0.0664 - acc: 0.9794 - val_loss: 0.0453 - val_acc: 0.9862\n",
            "Epoch 3/15\n",
            "\n",
            "Epoch 00003: LearningRateScheduler setting learning rate to 0.0018315018.\n",
            "60000/60000 [==============================] - 25s 417us/step - loss: 0.0532 - acc: 0.9838 - val_loss: 0.0305 - val_acc: 0.9907\n",
            "Epoch 4/15\n",
            "\n",
            "Epoch 00004: LearningRateScheduler setting learning rate to 0.0015329586.\n",
            "60000/60000 [==============================] - 25s 414us/step - loss: 0.0450 - acc: 0.9855 - val_loss: 0.0245 - val_acc: 0.9917\n",
            "Epoch 5/15\n",
            "\n",
            "Epoch 00005: LearningRateScheduler setting learning rate to 0.0013181019.\n",
            "60000/60000 [==============================] - 25s 415us/step - loss: 0.0382 - acc: 0.9875 - val_loss: 0.0275 - val_acc: 0.9913\n",
            "Epoch 6/15\n",
            "\n",
            "Epoch 00006: LearningRateScheduler setting learning rate to 0.0011560694.\n",
            "60000/60000 [==============================] - 25s 414us/step - loss: 0.0352 - acc: 0.9890 - val_loss: 0.0226 - val_acc: 0.9924\n",
            "Epoch 7/15\n",
            "\n",
            "Epoch 00007: LearningRateScheduler setting learning rate to 0.0010295127.\n",
            "60000/60000 [==============================] - 25s 413us/step - loss: 0.0315 - acc: 0.9899 - val_loss: 0.0263 - val_acc: 0.9907\n",
            "Epoch 8/15\n",
            "\n",
            "Epoch 00008: LearningRateScheduler setting learning rate to 0.0009279307.\n",
            "60000/60000 [==============================] - 25s 416us/step - loss: 0.0293 - acc: 0.9905 - val_loss: 0.0273 - val_acc: 0.9910\n",
            "Epoch 9/15\n",
            "\n",
            "Epoch 00009: LearningRateScheduler setting learning rate to 0.0008445946.\n",
            "60000/60000 [==============================] - 25s 416us/step - loss: 0.0264 - acc: 0.9915 - val_loss: 0.0194 - val_acc: 0.9936\n",
            "Epoch 10/15\n",
            "\n",
            "Epoch 00010: LearningRateScheduler setting learning rate to 0.0007749935.\n",
            "60000/60000 [==============================] - 25s 412us/step - loss: 0.0252 - acc: 0.9917 - val_loss: 0.0220 - val_acc: 0.9928\n",
            "Epoch 11/15\n",
            "\n",
            "Epoch 00011: LearningRateScheduler setting learning rate to 0.0007159905.\n",
            "60000/60000 [==============================] - 25s 418us/step - loss: 0.0235 - acc: 0.9923 - val_loss: 0.0202 - val_acc: 0.9938\n",
            "Epoch 12/15\n",
            "\n",
            "Epoch 00012: LearningRateScheduler setting learning rate to 0.000665336.\n",
            "60000/60000 [==============================] - 25s 411us/step - loss: 0.0224 - acc: 0.9928 - val_loss: 0.0212 - val_acc: 0.9939\n",
            "Epoch 13/15\n",
            "\n",
            "Epoch 00013: LearningRateScheduler setting learning rate to 0.0006213753.\n",
            "60000/60000 [==============================] - 24s 408us/step - loss: 0.0216 - acc: 0.9930 - val_loss: 0.0208 - val_acc: 0.9931\n",
            "Epoch 14/15\n",
            "\n",
            "Epoch 00014: LearningRateScheduler setting learning rate to 0.0005828638.\n",
            "60000/60000 [==============================] - 25s 410us/step - loss: 0.0203 - acc: 0.9936 - val_loss: 0.0224 - val_acc: 0.9935\n",
            "Epoch 15/15\n",
            "\n",
            "Epoch 00015: LearningRateScheduler setting learning rate to 0.0005488474.\n",
            "60000/60000 [==============================] - 25s 410us/step - loss: 0.0198 - acc: 0.9932 - val_loss: 0.0217 - val_acc: 0.9935\n"
          ],
          "name": "stdout"
        },
        {
          "output_type": "execute_result",
          "data": {
            "text/plain": [
              "<keras.callbacks.History at 0x7fa1f919df60>"
            ]
          },
          "metadata": {
            "tags": []
          },
          "execution_count": 185
        },
        {
          "output_type": "stream",
          "text": [
            "[0.021683135201784172, 0.9935]\n",
            "[[9.18202320e-12 4.11605328e-08 2.96076035e-08 2.18741363e-07\n",
            "  6.37922781e-08 2.65363093e-10 1.05903741e-12 9.99999046e-01\n",
            "  7.02135711e-11 6.27163956e-07]\n",
            " [1.02429249e-06 8.89295450e-07 9.99997377e-01 6.62932376e-09\n",
            "  2.20760811e-07 1.34024606e-12 3.47157510e-07 1.91765004e-09\n",
            "  6.49364367e-08 3.06864117e-10]\n",
            " [8.74688055e-08 9.99996185e-01 1.13632382e-07 2.02231703e-07\n",
            "  2.13324640e-07 2.87845296e-07 1.20585742e-06 1.48125787e-06\n",
            "  4.75331099e-08 1.40844083e-08]\n",
            " [9.99311328e-01 9.80048889e-11 1.34738873e-10 5.04616651e-08\n",
            "  6.14594731e-09 3.53703683e-07 6.86454761e-04 3.09342507e-09\n",
            "  5.02739226e-07 1.45698175e-06]\n",
            " [1.31976108e-09 2.90482705e-09 8.89440521e-10 3.39934331e-11\n",
            "  9.99985576e-01 1.42430095e-10 1.87326998e-09 7.39263717e-09\n",
            "  1.34966868e-07 1.42858698e-05]\n",
            " [5.87095244e-08 9.99988079e-01 1.61987060e-07 5.44403314e-08\n",
            "  8.42517579e-07 1.67542815e-08 2.98381423e-07 1.04503561e-05\n",
            "  5.54504709e-08 7.26151868e-08]\n",
            " [3.77705171e-14 3.41752127e-07 2.61288280e-09 8.65042649e-10\n",
            "  9.99910355e-01 3.33925199e-09 9.76861717e-11 6.02590408e-05\n",
            "  5.78013896e-06 2.31744634e-05]\n",
            " [7.32903374e-08 3.73751652e-09 2.98139696e-07 3.83453471e-06\n",
            "  2.00932682e-05 1.74047125e-06 9.20894827e-09 3.58003803e-07\n",
            "  4.62991864e-07 9.99973059e-01]\n",
            " [1.91672705e-04 1.44308965e-08 1.58858597e-08 1.78564648e-07\n",
            "  5.95954974e-09 9.58953857e-01 4.08407226e-02 2.22735452e-09\n",
            "  8.79424442e-06 4.72121110e-06]]\n",
            "[7 2 1 0 4 1 4 9 5]\n"
          ],
          "name": "stdout"
        }
      ]
    },
    {
      "cell_type": "markdown",
      "metadata": {
        "colab_type": "text",
        "id": "6m9-B2XMcb3F"
      },
      "source": [
        "Observations\n",
        "---------------------\n",
        "\n",
        "\n",
        "At the first look the results looks good. But did you also observe that we achieved the magic number as well ? If you haven't then go back and see that we achieved it in the 12th Epoch and improved over it on the 15th one . We can also try to see if more number of epochs takes it further up. But before that let's try and focus on the charts to see how it improved over different epochs and how the loss did .\n",
        "\n",
        "\n",
        "\n",
        "This shows that \n",
        "\n",
        "1. The validation loss was always better than the Training loss and \n",
        "2. Simillarly the validation accuracy was always higher than the training accuracy\n",
        "3. The network also narrowed down the difference between the training and validation accuracies \n",
        "\n",
        "That means it did a great job in generalizing the data . We achieved the target with \n",
        "\n",
        "1. Less than 15000 Parameters \n",
        "2. Less than 15 epochs\n",
        "3. WIth no greater than 32 batch size\n",
        "\n",
        "\n",
        "\n",
        "\n",
        "\n"
      ]
    },
    {
      "cell_type": "markdown",
      "metadata": {
        "id": "DZlkaMC5oj3u",
        "colab_type": "text"
      },
      "source": [
        "# Define Custom Loss function \n",
        "\n",
        "Below we have defined a method which takes two values  i) the actual values and ii) the predicted value\n",
        "\n",
        "Definee the L2 Regression function\n",
        "\n",
        "Define the value of lambda ( configurable)\n",
        "\n",
        "Calculated the sum of the square of all the weights of all the layers \n",
        "\n",
        "add the L2 Regression value to the Cross entropy loss\n",
        "\n",
        "Returns the value of new loss function which will be used during model fitting and validation\n"
      ]
    },
    {
      "cell_type": "markdown",
      "metadata": {
        "id": "PT5g4CfaPTMt",
        "colab_type": "text"
      },
      "source": [
        ""
      ]
    },
    {
      "cell_type": "code",
      "metadata": {
        "id": "8NZeuvkToeoD",
        "colab_type": "code",
        "colab": {}
      },
      "source": [
        "# Define custom loss\n",
        "\n",
        "def custom_loss(actual,predicted):\n",
        "    print(actual)\n",
        "    print(predicted)\n",
        "    \n",
        "    sqr_w = 0\n",
        "    lamda = 0.001 #1e-4\n",
        "\n",
        "    for layer in model.layers:\n",
        "       sqr_w = sqr_w + np.sum(np.sum(np.sum(np.square(layer.get_weights()))))\n",
        "\n",
        "    l2_regularization = (lamda*sqr_w)/2*(32) \n",
        "    loss = K.categorical_crossentropy(actual,predicted) + l2_regularization\n",
        "\n",
        "    # Return a function\n",
        "    return loss\n",
        "\n",
        "  \n"
      ],
      "execution_count": 0,
      "outputs": []
    },
    {
      "cell_type": "markdown",
      "metadata": {
        "id": "QexwfPcCPY7p",
        "colab_type": "text"
      },
      "source": [
        "# Connection to Google Drive for saving the Model"
      ]
    },
    {
      "cell_type": "code",
      "metadata": {
        "id": "wmcNkw6Tl8fD",
        "colab_type": "code",
        "colab": {
          "base_uri": "https://localhost:8080/",
          "height": 122
        },
        "outputId": "843eb49c-26eb-44bb-d3ea-09f4438ff31b"
      },
      "source": [
        "from google.colab import drive\n",
        "drive.mount('/content/gdrive')"
      ],
      "execution_count": 10,
      "outputs": [
        {
          "output_type": "stream",
          "text": [
            "Go to this URL in a browser: https://accounts.google.com/o/oauth2/auth?client_id=947318989803-6bn6qk8qdgf4n4g3pfee6491hc0brc4i.apps.googleusercontent.com&redirect_uri=urn%3Aietf%3Awg%3Aoauth%3A2.0%3Aoob&scope=email%20https%3A%2F%2Fwww.googleapis.com%2Fauth%2Fdocs.test%20https%3A%2F%2Fwww.googleapis.com%2Fauth%2Fdrive%20https%3A%2F%2Fwww.googleapis.com%2Fauth%2Fdrive.photos.readonly%20https%3A%2F%2Fwww.googleapis.com%2Fauth%2Fpeopleapi.readonly&response_type=code\n",
            "\n",
            "Enter your authorization code:\n",
            "··········\n",
            "Mounted at /content/gdrive\n"
          ],
          "name": "stdout"
        }
      ]
    },
    {
      "cell_type": "markdown",
      "metadata": {
        "id": "Ji0PLYT0PhnT",
        "colab_type": "text"
      },
      "source": [
        "# Change the root path (if required)"
      ]
    },
    {
      "cell_type": "code",
      "metadata": {
        "id": "0UQ1TgfDmvxC",
        "colab_type": "code",
        "colab": {
          "base_uri": "https://localhost:8080/",
          "height": 34
        },
        "outputId": "33cc515a-e9c0-4e47-fe1f-710b5bbbcc6c"
      },
      "source": [
        "\n",
        "root_path = 'gdrive/My Drive/Colab Notebooks/'  #change dir to your project folder"
      ],
      "execution_count": 162,
      "outputs": [
        {
          "output_type": "stream",
          "text": [
            "Drive already mounted at /content/gdrive; to attempt to forcibly remount, call drive.mount(\"/content/gdrive\", force_remount=True).\n"
          ],
          "name": "stdout"
        }
      ]
    },
    {
      "cell_type": "markdown",
      "metadata": {
        "id": "0kZcs9VePlfC",
        "colab_type": "text"
      },
      "source": [
        "# This model is using Image normalization\n",
        "\n",
        "1) Creates an image Data Generator \n",
        "\n",
        "2) Fit the model using the Data Generator using a batch size of 512 for 40 epochs \n",
        "\n",
        "3) Saves the Model with highest validation accuracy to google drive"
      ]
    },
    {
      "cell_type": "code",
      "metadata": {
        "id": "2sg33QGHvdLf",
        "colab_type": "code",
        "colab": {
          "base_uri": "https://localhost:8080/",
          "height": 1000
        },
        "outputId": "8c023f3c-f329-44dc-fe40-90c414d9700d"
      },
      "source": [
        "model = Sequential()\n",
        "\n",
        " \n",
        "model.add(Convolution2D(8, 3, 3, activation='relu', input_shape=(28,28,1)))\n",
        "model.add(BatchNormalization())\n",
        "model.add(Dropout(0.1))\n",
        "model.add(Convolution2D(14, 3, 3, activation='relu'))\n",
        "model.add(BatchNormalization())\n",
        "model.add(Dropout(0.1))\n",
        "model.add(Convolution2D(24, 3, 3, activation='relu'))\n",
        "#model.add(BatchNormalization())\n",
        "model.add(MaxPooling2D(pool_size=(2, 2)))\n",
        "model.add(Convolution2D(8, 1, 1, activation='relu'))\n",
        "#model.add(BatchNormalization())\n",
        "#model.add(Dropout(0.1))\n",
        "model.add(Convolution2D(16, 3, 3, activation='relu'))\n",
        "model.add(BatchNormalization())\n",
        "model.add(Dropout(0.1))\n",
        "model.add(Convolution2D(16, 3, 3, activation='relu'))\n",
        "model.add(BatchNormalization())\n",
        "model.add(Dropout(0.1))\n",
        "model.add(Convolution2D(24, 3, 3, activation='relu'))\n",
        "model.add(BatchNormalization())\n",
        "model.add(Dropout(0.1))\n",
        "model.add(Convolution2D(10, 1, activation='relu'))\n",
        "model.add(BatchNormalization())\n",
        "model.add(Dropout(0.1))\n",
        "model.add(Convolution2D(10, 5))\n",
        "model.add(Flatten())\n",
        "model.add(Activation('softmax'))\n",
        "\n",
        "\n",
        "model.summary()\n",
        "\n",
        "def scheduler(epoch, lr):\n",
        "    return round(0.003 * 1/(1 + 0.319 * epoch), 10)\n",
        "es = EarlyStopping(\"val_acc\",patience=15,restore_best_weights=True)\n",
        "checkpoint = ModelCheckpoint(\"model.hdf5\", monitor='val_acc', verbose=0, save_best_only=True, mode='max')\n",
        "callbacks_list = [es,checkpoint,LearningRateScheduler(scheduler, verbose=1)]\n",
        "\n",
        "\n",
        "\n",
        "\n",
        "\n",
        "#model.compile(loss='categorical_crossentropy', optimizer=Adam(lr=0.003), metrics=['accuracy'])\n",
        "model.compile(loss=custom_loss, optimizer=Adam(lr=0.003), metrics=['accuracy'])\n",
        "\n",
        "\n",
        "datagen = ImageDataGenerator(featurewise_center=True, featurewise_std_normalization=True,)\n",
        "datagen.fit(X_train)\n",
        "\n",
        "model.fit_generator(datagen.flow(X_train, Y_train, batch_size=512,shuffle=True),\n",
        "                    steps_per_epoch=int(np.ceil(len(X_train)/512)), \n",
        "                    epochs=40, verbose=1, validation_data=datagen.flow(X_test, Y_test, batch_size=512,shuffle=True), \n",
        "                    validation_steps = int(np.ceil(len(X_test)/512)), \n",
        "                    callbacks=callbacks_list,)\n",
        "\n",
        "\n",
        "\n",
        "#model.fit(X_train, Y_train, batch_size=32, epochs=15, verbose=1, validation_data=(X_test, Y_test), callbacks=[LearningRateScheduler(scheduler, verbose=1)])\n",
        "\n",
        "\n",
        "model.load_weights(\"model.hdf5\")\n",
        "\n",
        "# steps=np.ceil(len(X_train)/1024)\n",
        "# since it is auto calculated by kera so don't fill  it\n",
        "\n",
        "# iterator = datagen.flow(X_train, Y_train, batch_size=1024, shuffle=False)\n",
        "# score = model.evaluate_generator(iterator,steps=len(iterator))\n",
        "\n",
        "# iterator = datagen.flow(X_train, Y_train, batch_size=1024, shuffle=False)\n",
        "# predictions = model.predict_generator(iterator,steps=len(iterator))\n",
        "\n",
        "# #_ = predictions(score, predictions,Y_train, classes=get_mnist_labels(),print_results=True, plot_results=False)\n",
        "\n",
        "\n",
        "# iterator = datagen.flow(X_test, Y_test, batch_size=512, shuffle=False)\n",
        "# score = model.evaluate_generator(iterator,steps=len(iterator))\n",
        "\n",
        "iterator = datagen.flow(X_test, Y_test, batch_size=512,shuffle=False)\n",
        "predictions = model.predict_generator(iterator,steps=len(iterator))\n",
        "predicted_class_indices=np.argmax(predictions,axis=1)\n",
        "print(predicted_class_indices[0])\n",
        "\n",
        "#_ = predictions(score, predictions,Y_test, classes=get_mnist_labels(),print_results=True, plot_results=False)\n",
        "\n",
        "\n",
        "# _=evaluate(model,X_train, Y_train,classes=get_mnist_labels(),print_results=True, plot_results=False)\n",
        "# _=evaluate(model,X_test, Y_test,classes=get_mnist_labels(),print_results=True, plot_results=False)\n",
        "\n",
        "\n",
        "\n",
        "\n",
        "# score = model.evaluate(X_test, Y_test, verbose=0)\n",
        "# print(score)\n",
        "\n",
        "\n",
        "# y_pred = model.predict(X_test)\n",
        "# print(y_pred[:9])\n",
        "# print(y_test[:9])\n",
        "\n"
      ],
      "execution_count": 9,
      "outputs": [
        {
          "output_type": "stream",
          "text": [
            "W0819 12:16:55.949583 140469947746176 deprecation_wrapper.py:119] From /usr/local/lib/python3.6/dist-packages/keras/backend/tensorflow_backend.py:74: The name tf.get_default_graph is deprecated. Please use tf.compat.v1.get_default_graph instead.\n",
            "\n",
            "W0819 12:16:55.959606 140469947746176 deprecation_wrapper.py:119] From /usr/local/lib/python3.6/dist-packages/keras/backend/tensorflow_backend.py:517: The name tf.placeholder is deprecated. Please use tf.compat.v1.placeholder instead.\n",
            "\n",
            "W0819 12:16:55.972234 140469947746176 deprecation_wrapper.py:119] From /usr/local/lib/python3.6/dist-packages/keras/backend/tensorflow_backend.py:4138: The name tf.random_uniform is deprecated. Please use tf.random.uniform instead.\n",
            "\n",
            "W0819 12:16:56.022757 140469947746176 deprecation_wrapper.py:119] From /usr/local/lib/python3.6/dist-packages/keras/backend/tensorflow_backend.py:174: The name tf.get_default_session is deprecated. Please use tf.compat.v1.get_default_session instead.\n",
            "\n",
            "W0819 12:16:56.024510 140469947746176 deprecation_wrapper.py:119] From /usr/local/lib/python3.6/dist-packages/keras/backend/tensorflow_backend.py:181: The name tf.ConfigProto is deprecated. Please use tf.compat.v1.ConfigProto instead.\n",
            "\n",
            "W0819 12:16:58.953382 140469947746176 deprecation_wrapper.py:119] From /usr/local/lib/python3.6/dist-packages/keras/backend/tensorflow_backend.py:1834: The name tf.nn.fused_batch_norm is deprecated. Please use tf.compat.v1.nn.fused_batch_norm instead.\n",
            "\n",
            "W0819 12:16:59.049420 140469947746176 deprecation.py:506] From /usr/local/lib/python3.6/dist-packages/keras/backend/tensorflow_backend.py:3445: calling dropout (from tensorflow.python.ops.nn_ops) with keep_prob is deprecated and will be removed in a future version.\n",
            "Instructions for updating:\n",
            "Please use `rate` instead of `keep_prob`. Rate should be set to `rate = 1 - keep_prob`.\n",
            "W0819 12:16:59.204262 140469947746176 deprecation_wrapper.py:119] From /usr/local/lib/python3.6/dist-packages/keras/backend/tensorflow_backend.py:3976: The name tf.nn.max_pool is deprecated. Please use tf.nn.max_pool2d instead.\n",
            "\n",
            "W0819 12:16:59.772166 140469947746176 deprecation_wrapper.py:119] From /usr/local/lib/python3.6/dist-packages/keras/optimizers.py:790: The name tf.train.Optimizer is deprecated. Please use tf.compat.v1.train.Optimizer instead.\n",
            "\n"
          ],
          "name": "stderr"
        },
        {
          "output_type": "stream",
          "text": [
            "_________________________________________________________________\n",
            "Layer (type)                 Output Shape              Param #   \n",
            "=================================================================\n",
            "conv2d_1 (Conv2D)            (None, 26, 26, 8)         80        \n",
            "_________________________________________________________________\n",
            "batch_normalization_1 (Batch (None, 26, 26, 8)         32        \n",
            "_________________________________________________________________\n",
            "dropout_1 (Dropout)          (None, 26, 26, 8)         0         \n",
            "_________________________________________________________________\n",
            "conv2d_2 (Conv2D)            (None, 24, 24, 14)        1022      \n",
            "_________________________________________________________________\n",
            "batch_normalization_2 (Batch (None, 24, 24, 14)        56        \n",
            "_________________________________________________________________\n",
            "dropout_2 (Dropout)          (None, 24, 24, 14)        0         \n",
            "_________________________________________________________________\n",
            "conv2d_3 (Conv2D)            (None, 22, 22, 24)        3048      \n",
            "_________________________________________________________________\n",
            "max_pooling2d_1 (MaxPooling2 (None, 11, 11, 24)        0         \n",
            "_________________________________________________________________\n",
            "conv2d_4 (Conv2D)            (None, 11, 11, 8)         200       \n",
            "_________________________________________________________________\n",
            "conv2d_5 (Conv2D)            (None, 9, 9, 16)          1168      \n",
            "_________________________________________________________________\n",
            "batch_normalization_3 (Batch (None, 9, 9, 16)          64        \n",
            "_________________________________________________________________\n",
            "dropout_3 (Dropout)          (None, 9, 9, 16)          0         \n",
            "_________________________________________________________________\n",
            "conv2d_6 (Conv2D)            (None, 7, 7, 16)          2320      \n",
            "_________________________________________________________________\n",
            "batch_normalization_4 (Batch (None, 7, 7, 16)          64        \n",
            "_________________________________________________________________\n",
            "dropout_4 (Dropout)          (None, 7, 7, 16)          0         \n",
            "_________________________________________________________________\n",
            "conv2d_7 (Conv2D)            (None, 5, 5, 24)          3480      \n",
            "_________________________________________________________________\n",
            "batch_normalization_5 (Batch (None, 5, 5, 24)          96        \n",
            "_________________________________________________________________\n",
            "dropout_5 (Dropout)          (None, 5, 5, 24)          0         \n",
            "_________________________________________________________________\n",
            "conv2d_8 (Conv2D)            (None, 5, 5, 10)          250       \n",
            "_________________________________________________________________\n",
            "batch_normalization_6 (Batch (None, 5, 5, 10)          40        \n",
            "_________________________________________________________________\n",
            "dropout_6 (Dropout)          (None, 5, 5, 10)          0         \n",
            "_________________________________________________________________\n",
            "conv2d_9 (Conv2D)            (None, 1, 1, 10)          2510      \n",
            "_________________________________________________________________\n",
            "flatten_1 (Flatten)          (None, 10)                0         \n",
            "_________________________________________________________________\n",
            "activation_1 (Activation)    (None, 10)                0         \n",
            "=================================================================\n",
            "Total params: 14,430\n",
            "Trainable params: 14,254\n",
            "Non-trainable params: 176\n",
            "_________________________________________________________________\n",
            "Tensor(\"activation_1_target:0\", shape=(?, ?), dtype=float32)\n",
            "Tensor(\"activation_1/Softmax:0\", shape=(?, ?), dtype=float32)\n"
          ],
          "name": "stdout"
        },
        {
          "output_type": "stream",
          "text": [
            "W0819 12:17:00.754199 140469947746176 deprecation.py:323] From /usr/local/lib/python3.6/dist-packages/tensorflow/python/ops/math_grad.py:1250: add_dispatch_support.<locals>.wrapper (from tensorflow.python.ops.array_ops) is deprecated and will be removed in a future version.\n",
            "Instructions for updating:\n",
            "Use tf.where in 2.0, which has the same broadcast rule as np.where\n"
          ],
          "name": "stderr"
        },
        {
          "output_type": "stream",
          "text": [
            "Epoch 1/40\n",
            "\n",
            "Epoch 00001: LearningRateScheduler setting learning rate to 0.003.\n",
            "118/118 [==============================] - 10s 85ms/step - loss: 46.7384 - acc: 0.8676 - val_loss: 46.4150 - val_acc: 0.9706\n",
            "Epoch 2/40\n",
            "\n",
            "Epoch 00002: LearningRateScheduler setting learning rate to 0.0022744503.\n",
            "118/118 [==============================] - 6s 49ms/step - loss: 46.4122 - acc: 0.9719 - val_loss: 46.3778 - val_acc: 0.9797\n",
            "Epoch 3/40\n",
            "\n",
            "Epoch 00003: LearningRateScheduler setting learning rate to 0.0018315018.\n",
            "118/118 [==============================] - 6s 50ms/step - loss: 46.3883 - acc: 0.9788 - val_loss: 46.3608 - val_acc: 0.9868\n",
            "Epoch 4/40\n",
            "\n",
            "Epoch 00004: LearningRateScheduler setting learning rate to 0.0015329586.\n",
            "118/118 [==============================] - 6s 50ms/step - loss: 46.3777 - acc: 0.9818 - val_loss: 46.3557 - val_acc: 0.9882\n",
            "Epoch 5/40\n",
            "\n",
            "Epoch 00005: LearningRateScheduler setting learning rate to 0.0013181019.\n",
            "118/118 [==============================] - 6s 49ms/step - loss: 46.3681 - acc: 0.9849 - val_loss: 46.3504 - val_acc: 0.9900\n",
            "Epoch 6/40\n",
            "\n",
            "Epoch 00006: LearningRateScheduler setting learning rate to 0.0011560694.\n",
            "118/118 [==============================] - 6s 50ms/step - loss: 46.3650 - acc: 0.9855 - val_loss: 46.3473 - val_acc: 0.9914\n",
            "Epoch 7/40\n",
            "\n",
            "Epoch 00007: LearningRateScheduler setting learning rate to 0.0010295127.\n",
            "118/118 [==============================] - 6s 49ms/step - loss: 46.3614 - acc: 0.9871 - val_loss: 46.3536 - val_acc: 0.9895\n",
            "Epoch 8/40\n",
            "\n",
            "Epoch 00008: LearningRateScheduler setting learning rate to 0.0009279307.\n",
            "118/118 [==============================] - 6s 49ms/step - loss: 46.3587 - acc: 0.9871 - val_loss: 46.3499 - val_acc: 0.9897\n",
            "Epoch 9/40\n",
            "\n",
            "Epoch 00009: LearningRateScheduler setting learning rate to 0.0008445946.\n",
            "118/118 [==============================] - 6s 52ms/step - loss: 46.3554 - acc: 0.9885 - val_loss: 46.3432 - val_acc: 0.9928\n",
            "Epoch 10/40\n",
            "\n",
            "Epoch 00010: LearningRateScheduler setting learning rate to 0.0007749935.\n",
            "118/118 [==============================] - 6s 49ms/step - loss: 46.3530 - acc: 0.9895 - val_loss: 46.3443 - val_acc: 0.9923\n",
            "Epoch 11/40\n",
            "\n",
            "Epoch 00011: LearningRateScheduler setting learning rate to 0.0007159905.\n",
            "118/118 [==============================] - 6s 51ms/step - loss: 46.3523 - acc: 0.9897 - val_loss: 46.3427 - val_acc: 0.9925\n",
            "Epoch 12/40\n",
            "\n",
            "Epoch 00012: LearningRateScheduler setting learning rate to 0.000665336.\n",
            "118/118 [==============================] - 6s 50ms/step - loss: 46.3526 - acc: 0.9895 - val_loss: 46.3438 - val_acc: 0.9925\n",
            "Epoch 13/40\n",
            "\n",
            "Epoch 00013: LearningRateScheduler setting learning rate to 0.0006213753.\n",
            "118/118 [==============================] - 6s 50ms/step - loss: 46.3511 - acc: 0.9901 - val_loss: 46.3446 - val_acc: 0.9929\n",
            "Epoch 14/40\n",
            "\n",
            "Epoch 00014: LearningRateScheduler setting learning rate to 0.0005828638.\n",
            "118/118 [==============================] - 6s 50ms/step - loss: 46.3495 - acc: 0.9906 - val_loss: 46.3446 - val_acc: 0.9925\n",
            "Epoch 15/40\n",
            "\n",
            "Epoch 00015: LearningRateScheduler setting learning rate to 0.0005488474.\n",
            "118/118 [==============================] - 6s 50ms/step - loss: 46.3483 - acc: 0.9911 - val_loss: 46.3443 - val_acc: 0.9921\n",
            "Epoch 16/40\n",
            "\n",
            "Epoch 00016: LearningRateScheduler setting learning rate to 0.0005185825.\n",
            "118/118 [==============================] - 6s 50ms/step - loss: 46.3477 - acc: 0.9910 - val_loss: 46.3417 - val_acc: 0.9930\n",
            "Epoch 17/40\n",
            "\n",
            "Epoch 00017: LearningRateScheduler setting learning rate to 0.000491481.\n",
            "118/118 [==============================] - 6s 50ms/step - loss: 46.3460 - acc: 0.9916 - val_loss: 46.3486 - val_acc: 0.9913\n",
            "Epoch 18/40\n",
            "\n",
            "Epoch 00018: LearningRateScheduler setting learning rate to 0.0004670715.\n",
            "118/118 [==============================] - 6s 50ms/step - loss: 46.3461 - acc: 0.9914 - val_loss: 46.3427 - val_acc: 0.9932\n",
            "Epoch 19/40\n",
            "\n",
            "Epoch 00019: LearningRateScheduler setting learning rate to 0.0004449718.\n",
            "118/118 [==============================] - 6s 50ms/step - loss: 46.3451 - acc: 0.9919 - val_loss: 46.3410 - val_acc: 0.9930\n",
            "Epoch 20/40\n",
            "\n",
            "Epoch 00020: LearningRateScheduler setting learning rate to 0.000424869.\n",
            "118/118 [==============================] - 6s 50ms/step - loss: 46.3456 - acc: 0.9915 - val_loss: 46.3427 - val_acc: 0.9934\n",
            "Epoch 21/40\n",
            "\n",
            "Epoch 00021: LearningRateScheduler setting learning rate to 0.0004065041.\n",
            "118/118 [==============================] - 6s 50ms/step - loss: 46.3449 - acc: 0.9918 - val_loss: 46.3428 - val_acc: 0.9925\n",
            "Epoch 22/40\n",
            "\n",
            "Epoch 00022: LearningRateScheduler setting learning rate to 0.000389661.\n",
            "118/118 [==============================] - 6s 50ms/step - loss: 46.3436 - acc: 0.9922 - val_loss: 46.3402 - val_acc: 0.9934\n",
            "Epoch 23/40\n",
            "\n",
            "Epoch 00023: LearningRateScheduler setting learning rate to 0.0003741581.\n",
            "118/118 [==============================] - 6s 50ms/step - loss: 46.3430 - acc: 0.9925 - val_loss: 46.3415 - val_acc: 0.9935\n",
            "Epoch 24/40\n",
            "\n",
            "Epoch 00024: LearningRateScheduler setting learning rate to 0.0003598417.\n",
            "118/118 [==============================] - 6s 51ms/step - loss: 46.3439 - acc: 0.9920 - val_loss: 46.3416 - val_acc: 0.9937\n",
            "Epoch 25/40\n",
            "\n",
            "Epoch 00025: LearningRateScheduler setting learning rate to 0.0003465804.\n",
            "118/118 [==============================] - 6s 50ms/step - loss: 46.3421 - acc: 0.9926 - val_loss: 46.3400 - val_acc: 0.9937\n",
            "Epoch 26/40\n",
            "\n",
            "Epoch 00026: LearningRateScheduler setting learning rate to 0.0003342618.\n",
            "118/118 [==============================] - 6s 50ms/step - loss: 46.3417 - acc: 0.9926 - val_loss: 46.3447 - val_acc: 0.9931\n",
            "Epoch 27/40\n",
            "\n",
            "Epoch 00027: LearningRateScheduler setting learning rate to 0.0003227889.\n",
            "118/118 [==============================] - 6s 50ms/step - loss: 46.3411 - acc: 0.9928 - val_loss: 46.3396 - val_acc: 0.9943\n",
            "Epoch 28/40\n",
            "\n",
            "Epoch 00028: LearningRateScheduler setting learning rate to 0.0003120774.\n",
            "118/118 [==============================] - 6s 52ms/step - loss: 46.3402 - acc: 0.9933 - val_loss: 46.3395 - val_acc: 0.9938\n",
            "Epoch 29/40\n",
            "\n",
            "Epoch 00029: LearningRateScheduler setting learning rate to 0.000302054.\n",
            "118/118 [==============================] - 6s 50ms/step - loss: 46.3405 - acc: 0.9935 - val_loss: 46.3403 - val_acc: 0.9937\n",
            "Epoch 30/40\n",
            "\n",
            "Epoch 00030: LearningRateScheduler setting learning rate to 0.0002926544.\n",
            "118/118 [==============================] - 6s 50ms/step - loss: 46.3403 - acc: 0.9933 - val_loss: 46.3428 - val_acc: 0.9928\n",
            "Epoch 31/40\n",
            "\n",
            "Epoch 00031: LearningRateScheduler setting learning rate to 0.0002838221.\n",
            "118/118 [==============================] - 6s 50ms/step - loss: 46.3412 - acc: 0.9928 - val_loss: 46.3413 - val_acc: 0.9936\n",
            "Epoch 32/40\n",
            "\n",
            "Epoch 00032: LearningRateScheduler setting learning rate to 0.0002755074.\n",
            "118/118 [==============================] - 6s 50ms/step - loss: 46.3398 - acc: 0.9935 - val_loss: 46.3404 - val_acc: 0.9936\n",
            "Epoch 33/40\n",
            "\n",
            "Epoch 00033: LearningRateScheduler setting learning rate to 0.000267666.\n",
            "118/118 [==============================] - 6s 50ms/step - loss: 46.3404 - acc: 0.9931 - val_loss: 46.3387 - val_acc: 0.9945\n",
            "Epoch 34/40\n",
            "\n",
            "Epoch 00034: LearningRateScheduler setting learning rate to 0.0002602585.\n",
            "118/118 [==============================] - 6s 50ms/step - loss: 46.3388 - acc: 0.9937 - val_loss: 46.3401 - val_acc: 0.9935\n",
            "Epoch 35/40\n",
            "\n",
            "Epoch 00035: LearningRateScheduler setting learning rate to 0.00025325.\n",
            "118/118 [==============================] - 6s 50ms/step - loss: 46.3399 - acc: 0.9931 - val_loss: 46.3392 - val_acc: 0.9938\n",
            "Epoch 36/40\n",
            "\n",
            "Epoch 00036: LearningRateScheduler setting learning rate to 0.0002466091.\n",
            "118/118 [==============================] - 6s 50ms/step - loss: 46.3389 - acc: 0.9935 - val_loss: 46.3393 - val_acc: 0.9936\n",
            "Epoch 37/40\n",
            "\n",
            "Epoch 00037: LearningRateScheduler setting learning rate to 0.0002403076.\n",
            "118/118 [==============================] - 6s 50ms/step - loss: 46.3391 - acc: 0.9936 - val_loss: 46.3404 - val_acc: 0.9935\n",
            "Epoch 38/40\n",
            "\n",
            "Epoch 00038: LearningRateScheduler setting learning rate to 0.0002343201.\n",
            "118/118 [==============================] - 6s 50ms/step - loss: 46.3389 - acc: 0.9937 - val_loss: 46.3393 - val_acc: 0.9941\n",
            "Epoch 39/40\n",
            "\n",
            "Epoch 00039: LearningRateScheduler setting learning rate to 0.0002286237.\n",
            "118/118 [==============================] - 6s 51ms/step - loss: 46.3376 - acc: 0.9939 - val_loss: 46.3406 - val_acc: 0.9935\n",
            "Epoch 40/40\n",
            "\n",
            "Epoch 00040: LearningRateScheduler setting learning rate to 0.0002231977.\n",
            "118/118 [==============================] - 6s 50ms/step - loss: 46.3372 - acc: 0.9941 - val_loss: 46.3397 - val_acc: 0.9940\n"
          ],
          "name": "stdout"
        },
        {
          "output_type": "execute_result",
          "data": {
            "text/plain": [
              "<keras.callbacks.History at 0x7fc10c67be80>"
            ]
          },
          "metadata": {
            "tags": []
          },
          "execution_count": 9
        },
        {
          "output_type": "stream",
          "text": [
            "7\n"
          ],
          "name": "stdout"
        }
      ]
    },
    {
      "cell_type": "markdown",
      "metadata": {
        "id": "MPsp6u7oQDoV",
        "colab_type": "text"
      },
      "source": [
        "# Adding the L2 Regularization with the Loss function\n",
        "\n",
        "The below model is trained using the custom loss function which is nothing but the combination of cross entropy loss and L2 regularization \n",
        "The model that gave the highest accuracy is saved in the google drive"
      ]
    },
    {
      "cell_type": "code",
      "metadata": {
        "id": "O1DdIKu-R_XF",
        "colab_type": "code",
        "colab": {
          "base_uri": "https://localhost:8080/",
          "height": 1000
        },
        "outputId": "222ac255-eeb8-4ba4-97ac-ee1cfed6f044"
      },
      "source": [
        "model = Sequential()\n",
        "\n",
        " \n",
        "model.add(Convolution2D(8, 3, 3, activation='relu', input_shape=(28,28,1)))\n",
        "model.add(BatchNormalization())\n",
        "model.add(Dropout(0.1))\n",
        "model.add(Convolution2D(14, 3, 3, activation='relu'))\n",
        "model.add(BatchNormalization())\n",
        "model.add(Dropout(0.1))\n",
        "model.add(Convolution2D(24, 3, 3, activation='relu'))\n",
        "#model.add(BatchNormalization())\n",
        "model.add(MaxPooling2D(pool_size=(2, 2)))\n",
        "model.add(Convolution2D(8, 1, 1, activation='relu'))\n",
        "#model.add(BatchNormalization())\n",
        "#model.add(Dropout(0.1))\n",
        "model.add(Convolution2D(16, 3, 3, activation='relu'))\n",
        "model.add(BatchNormalization())\n",
        "model.add(Dropout(0.1))\n",
        "model.add(Convolution2D(16, 3, 3, activation='relu'))\n",
        "model.add(BatchNormalization())\n",
        "model.add(Dropout(0.1))\n",
        "model.add(Convolution2D(24, 3, 3, activation='relu'))\n",
        "model.add(BatchNormalization())\n",
        "model.add(Dropout(0.1))\n",
        "model.add(Convolution2D(10, 1, activation='relu'))\n",
        "model.add(BatchNormalization())\n",
        "model.add(Dropout(0.1))\n",
        "model.add(Convolution2D(10, 5))\n",
        "model.add(Flatten())\n",
        "model.add(Activation('softmax'))\n",
        "\n",
        "\n",
        "model.summary()\n",
        "\n",
        "def scheduler(epoch, lr):\n",
        "    return round(0.003 * 1/(1 + 0.319 * epoch), 10)\n",
        "es = EarlyStopping(\"val_acc\",patience=15,restore_best_weights=True)\n",
        "checkpoint = ModelCheckpoint(\"model.hdf5\", monitor='val_acc', verbose=0, save_best_only=True, mode='max')\n",
        "callbacks_list = [es,checkpoint,LearningRateScheduler(scheduler, verbose=1)]\n",
        "\n",
        "\n",
        "\n",
        "\n",
        "\n",
        "#model.compile(loss='categorical_crossentropy', optimizer=Adam(lr=0.003), metrics=['accuracy'])\n",
        "model.compile(loss=custom_loss, optimizer=Adam(lr=0.003), metrics=['accuracy'])\n",
        "\n",
        "\n",
        "datagen = ImageDataGenerator(featurewise_center=True, featurewise_std_normalization=True,)\n",
        "datagen.fit(X_train)\n",
        "\n",
        "model.fit_generator(datagen.flow(X_train, Y_train, batch_size=512,shuffle=True),\n",
        "                    steps_per_epoch=int(np.ceil(len(X_train)/512)), \n",
        "                    epochs=40, verbose=1, validation_data=datagen.flow(X_test, Y_test, batch_size=512,shuffle=True), \n",
        "                    validation_steps = int(np.ceil(len(X_test)/512)), \n",
        "                    callbacks=callbacks_list,)\n",
        "\n",
        "\n",
        "\n",
        "#model.fit(X_train, Y_train, batch_size=32, epochs=15, verbose=1, validation_data=(X_test, Y_test), callbacks=[LearningRateScheduler(scheduler, verbose=1)])\n",
        "\n",
        "\n",
        "model.load_weights(\"model.hdf5\")\n",
        "\n",
        "# steps=np.ceil(len(X_train)/1024)\n",
        "# since it is auto calculated by kera so don't fill  it\n",
        "\n",
        "# iterator = datagen.flow(X_train, Y_train, batch_size=1024, shuffle=False)\n",
        "# score = model.evaluate_generator(iterator,steps=len(iterator))\n",
        "\n",
        "# iterator = datagen.flow(X_train, Y_train, batch_size=1024, shuffle=False)\n",
        "# predictions = model.predict_generator(iterator,steps=len(iterator))\n",
        "\n",
        "# #_ = predictions(score, predictions,Y_train, classes=get_mnist_labels(),print_results=True, plot_results=False)\n",
        "\n",
        "\n",
        "# iterator = datagen.flow(X_test, Y_test, batch_size=512, shuffle=False)\n",
        "# score = model.evaluate_generator(iterator,steps=len(iterator))\n",
        "\n",
        "iterator = datagen.flow(X_test, Y_test, batch_size=512,shuffle=False)\n",
        "predictions = model.predict_generator(iterator,steps=len(iterator))\n",
        "predicted_class_indices=np.argmax(predictions,axis=1)\n",
        "print(predicted_class_indices[0])\n",
        "\n",
        "#_ = predictions(score, predictions,Y_test, classes=get_mnist_labels(),print_results=True, plot_results=False)\n",
        "\n",
        "\n",
        "# _=evaluate(model,X_train, Y_train,classes=get_mnist_labels(),print_results=True, plot_results=False)\n",
        "# _=evaluate(model,X_test, Y_test,classes=get_mnist_labels(),print_results=True, plot_results=False)\n",
        "\n",
        "\n",
        "\n",
        "\n",
        "# score = model.evaluate(X_test, Y_test, verbose=0)\n",
        "# print(score)\n",
        "\n",
        "\n",
        "# y_pred = model.predict(X_test)\n",
        "# print(y_pred[:9])\n",
        "# print(y_test[:9])\n",
        "\n"
      ],
      "execution_count": 14,
      "outputs": [
        {
          "output_type": "stream",
          "text": [
            "_________________________________________________________________\n",
            "Layer (type)                 Output Shape              Param #   \n",
            "=================================================================\n",
            "conv2d_19 (Conv2D)           (None, 26, 26, 8)         80        \n",
            "_________________________________________________________________\n",
            "batch_normalization_13 (Batc (None, 26, 26, 8)         32        \n",
            "_________________________________________________________________\n",
            "dropout_13 (Dropout)         (None, 26, 26, 8)         0         \n",
            "_________________________________________________________________\n",
            "conv2d_20 (Conv2D)           (None, 24, 24, 14)        1022      \n",
            "_________________________________________________________________\n",
            "batch_normalization_14 (Batc (None, 24, 24, 14)        56        \n",
            "_________________________________________________________________\n",
            "dropout_14 (Dropout)         (None, 24, 24, 14)        0         \n",
            "_________________________________________________________________\n",
            "conv2d_21 (Conv2D)           (None, 22, 22, 24)        3048      \n",
            "_________________________________________________________________\n",
            "max_pooling2d_3 (MaxPooling2 (None, 11, 11, 24)        0         \n",
            "_________________________________________________________________\n",
            "conv2d_22 (Conv2D)           (None, 11, 11, 8)         200       \n",
            "_________________________________________________________________\n",
            "conv2d_23 (Conv2D)           (None, 9, 9, 16)          1168      \n",
            "_________________________________________________________________\n",
            "batch_normalization_15 (Batc (None, 9, 9, 16)          64        \n",
            "_________________________________________________________________\n",
            "dropout_15 (Dropout)         (None, 9, 9, 16)          0         \n",
            "_________________________________________________________________\n",
            "conv2d_24 (Conv2D)           (None, 7, 7, 16)          2320      \n",
            "_________________________________________________________________\n",
            "batch_normalization_16 (Batc (None, 7, 7, 16)          64        \n",
            "_________________________________________________________________\n",
            "dropout_16 (Dropout)         (None, 7, 7, 16)          0         \n",
            "_________________________________________________________________\n",
            "conv2d_25 (Conv2D)           (None, 5, 5, 24)          3480      \n",
            "_________________________________________________________________\n",
            "batch_normalization_17 (Batc (None, 5, 5, 24)          96        \n",
            "_________________________________________________________________\n",
            "dropout_17 (Dropout)         (None, 5, 5, 24)          0         \n",
            "_________________________________________________________________\n",
            "conv2d_26 (Conv2D)           (None, 5, 5, 10)          250       \n",
            "_________________________________________________________________\n",
            "batch_normalization_18 (Batc (None, 5, 5, 10)          40        \n",
            "_________________________________________________________________\n",
            "dropout_18 (Dropout)         (None, 5, 5, 10)          0         \n",
            "_________________________________________________________________\n",
            "conv2d_27 (Conv2D)           (None, 1, 1, 10)          2510      \n",
            "_________________________________________________________________\n",
            "flatten_3 (Flatten)          (None, 10)                0         \n",
            "_________________________________________________________________\n",
            "activation_3 (Activation)    (None, 10)                0         \n",
            "=================================================================\n",
            "Total params: 14,430\n",
            "Trainable params: 14,254\n",
            "Non-trainable params: 176\n",
            "_________________________________________________________________\n",
            "Tensor(\"activation_3_target:0\", shape=(?, ?), dtype=float32)\n",
            "Tensor(\"activation_3/Softmax:0\", shape=(?, ?), dtype=float32)\n",
            "Epoch 1/40\n",
            "\n",
            "Epoch 00001: LearningRateScheduler setting learning rate to 0.003.\n",
            "118/118 [==============================] - 9s 75ms/step - loss: 5.0574 - acc: 0.8617 - val_loss: 4.7348 - val_acc: 0.9646\n",
            "Epoch 2/40\n",
            "\n",
            "Epoch 00002: LearningRateScheduler setting learning rate to 0.0022744503.\n",
            "118/118 [==============================] - 6s 50ms/step - loss: 4.7189 - acc: 0.9699 - val_loss: 4.6789 - val_acc: 0.9822\n",
            "Epoch 3/40\n",
            "\n",
            "Epoch 00003: LearningRateScheduler setting learning rate to 0.0018315018.\n",
            "118/118 [==============================] - 6s 52ms/step - loss: 4.6904 - acc: 0.9784 - val_loss: 4.6636 - val_acc: 0.9862\n",
            "Epoch 4/40\n",
            "\n",
            "Epoch 00004: LearningRateScheduler setting learning rate to 0.0015329586.\n",
            "118/118 [==============================] - 6s 50ms/step - loss: 4.6788 - acc: 0.9822 - val_loss: 4.6635 - val_acc: 0.9867\n",
            "Epoch 5/40\n",
            "\n",
            "Epoch 00005: LearningRateScheduler setting learning rate to 0.0013181019.\n",
            "118/118 [==============================] - 6s 50ms/step - loss: 4.6725 - acc: 0.9837 - val_loss: 4.6564 - val_acc: 0.9885\n",
            "Epoch 6/40\n",
            "\n",
            "Epoch 00006: LearningRateScheduler setting learning rate to 0.0011560694.\n",
            "118/118 [==============================] - 6s 50ms/step - loss: 4.6669 - acc: 0.9861 - val_loss: 4.6496 - val_acc: 0.9907\n",
            "Epoch 7/40\n",
            "\n",
            "Epoch 00007: LearningRateScheduler setting learning rate to 0.0010295127.\n",
            "118/118 [==============================] - 6s 50ms/step - loss: 4.6629 - acc: 0.9868 - val_loss: 4.6502 - val_acc: 0.9904\n",
            "Epoch 8/40\n",
            "\n",
            "Epoch 00008: LearningRateScheduler setting learning rate to 0.0009279307.\n",
            "118/118 [==============================] - 6s 51ms/step - loss: 4.6589 - acc: 0.9883 - val_loss: 4.6482 - val_acc: 0.9910\n",
            "Epoch 9/40\n",
            "\n",
            "Epoch 00009: LearningRateScheduler setting learning rate to 0.0008445946.\n",
            "118/118 [==============================] - 6s 50ms/step - loss: 4.6581 - acc: 0.9883 - val_loss: 4.6468 - val_acc: 0.9911\n",
            "Epoch 10/40\n",
            "\n",
            "Epoch 00010: LearningRateScheduler setting learning rate to 0.0007749935.\n",
            "118/118 [==============================] - 6s 50ms/step - loss: 4.6560 - acc: 0.9894 - val_loss: 4.6465 - val_acc: 0.9914\n",
            "Epoch 11/40\n",
            "\n",
            "Epoch 00011: LearningRateScheduler setting learning rate to 0.0007159905.\n",
            "118/118 [==============================] - 6s 53ms/step - loss: 4.6535 - acc: 0.9898 - val_loss: 4.6478 - val_acc: 0.9908\n",
            "Epoch 12/40\n",
            "\n",
            "Epoch 00012: LearningRateScheduler setting learning rate to 0.000665336.\n",
            "118/118 [==============================] - 6s 50ms/step - loss: 4.6535 - acc: 0.9899 - val_loss: 4.6457 - val_acc: 0.9915\n",
            "Epoch 13/40\n",
            "\n",
            "Epoch 00013: LearningRateScheduler setting learning rate to 0.0006213753.\n",
            "118/118 [==============================] - 6s 51ms/step - loss: 4.6507 - acc: 0.9909 - val_loss: 4.6464 - val_acc: 0.9913\n",
            "Epoch 14/40\n",
            "\n",
            "Epoch 00014: LearningRateScheduler setting learning rate to 0.0005828638.\n",
            "118/118 [==============================] - 6s 50ms/step - loss: 4.6504 - acc: 0.9908 - val_loss: 4.6447 - val_acc: 0.9916\n",
            "Epoch 15/40\n",
            "\n",
            "Epoch 00015: LearningRateScheduler setting learning rate to 0.0005488474.\n",
            "118/118 [==============================] - 6s 52ms/step - loss: 4.6500 - acc: 0.9910 - val_loss: 4.6451 - val_acc: 0.9920\n",
            "Epoch 16/40\n",
            "\n",
            "Epoch 00016: LearningRateScheduler setting learning rate to 0.0005185825.\n",
            "118/118 [==============================] - 6s 50ms/step - loss: 4.6491 - acc: 0.9912 - val_loss: 4.6450 - val_acc: 0.9925\n",
            "Epoch 17/40\n",
            "\n",
            "Epoch 00017: LearningRateScheduler setting learning rate to 0.000491481.\n",
            "118/118 [==============================] - 6s 50ms/step - loss: 4.6484 - acc: 0.9917 - val_loss: 4.6449 - val_acc: 0.9925\n",
            "Epoch 18/40\n",
            "\n",
            "Epoch 00018: LearningRateScheduler setting learning rate to 0.0004670715.\n",
            "118/118 [==============================] - 6s 51ms/step - loss: 4.6470 - acc: 0.9922 - val_loss: 4.6435 - val_acc: 0.9920\n",
            "Epoch 19/40\n",
            "\n",
            "Epoch 00019: LearningRateScheduler setting learning rate to 0.0004449718.\n",
            "118/118 [==============================] - 6s 51ms/step - loss: 4.6455 - acc: 0.9923 - val_loss: 4.6431 - val_acc: 0.9931\n",
            "Epoch 20/40\n",
            "\n",
            "Epoch 00020: LearningRateScheduler setting learning rate to 0.000424869.\n",
            "118/118 [==============================] - 6s 51ms/step - loss: 4.6451 - acc: 0.9921 - val_loss: 4.6471 - val_acc: 0.9921\n",
            "Epoch 21/40\n",
            "\n",
            "Epoch 00021: LearningRateScheduler setting learning rate to 0.0004065041.\n",
            "118/118 [==============================] - 6s 50ms/step - loss: 4.6453 - acc: 0.9927 - val_loss: 4.6437 - val_acc: 0.9931\n",
            "Epoch 22/40\n",
            "\n",
            "Epoch 00022: LearningRateScheduler setting learning rate to 0.000389661.\n",
            "118/118 [==============================] - 6s 51ms/step - loss: 4.6457 - acc: 0.9925 - val_loss: 4.6428 - val_acc: 0.9935\n",
            "Epoch 23/40\n",
            "\n",
            "Epoch 00023: LearningRateScheduler setting learning rate to 0.0003741581.\n",
            "118/118 [==============================] - 6s 50ms/step - loss: 4.6445 - acc: 0.9926 - val_loss: 4.6431 - val_acc: 0.9932\n",
            "Epoch 24/40\n",
            "\n",
            "Epoch 00024: LearningRateScheduler setting learning rate to 0.0003598417.\n",
            "118/118 [==============================] - 6s 51ms/step - loss: 4.6436 - acc: 0.9927 - val_loss: 4.6429 - val_acc: 0.9930\n",
            "Epoch 25/40\n",
            "\n",
            "Epoch 00025: LearningRateScheduler setting learning rate to 0.0003465804.\n",
            "118/118 [==============================] - 6s 50ms/step - loss: 4.6433 - acc: 0.9933 - val_loss: 4.6440 - val_acc: 0.9925\n",
            "Epoch 26/40\n",
            "\n",
            "Epoch 00026: LearningRateScheduler setting learning rate to 0.0003342618.\n",
            "118/118 [==============================] - 6s 50ms/step - loss: 4.6433 - acc: 0.9927 - val_loss: 4.6408 - val_acc: 0.9941\n",
            "Epoch 27/40\n",
            "\n",
            "Epoch 00027: LearningRateScheduler setting learning rate to 0.0003227889.\n",
            "118/118 [==============================] - 6s 51ms/step - loss: 4.6429 - acc: 0.9932 - val_loss: 4.6434 - val_acc: 0.9935\n",
            "Epoch 28/40\n",
            "\n",
            "Epoch 00028: LearningRateScheduler setting learning rate to 0.0003120774.\n",
            "118/118 [==============================] - 6s 50ms/step - loss: 4.6429 - acc: 0.9933 - val_loss: 4.6425 - val_acc: 0.9942\n",
            "Epoch 29/40\n",
            "\n",
            "Epoch 00029: LearningRateScheduler setting learning rate to 0.000302054.\n",
            "118/118 [==============================] - 6s 51ms/step - loss: 4.6421 - acc: 0.9933 - val_loss: 4.6436 - val_acc: 0.9933\n",
            "Epoch 30/40\n",
            "\n",
            "Epoch 00030: LearningRateScheduler setting learning rate to 0.0002926544.\n",
            "118/118 [==============================] - 6s 51ms/step - loss: 4.6414 - acc: 0.9935 - val_loss: 4.6422 - val_acc: 0.9935\n",
            "Epoch 31/40\n",
            "\n",
            "Epoch 00031: LearningRateScheduler setting learning rate to 0.0002838221.\n",
            "118/118 [==============================] - 6s 50ms/step - loss: 4.6411 - acc: 0.9935 - val_loss: 4.6414 - val_acc: 0.9934\n",
            "Epoch 32/40\n",
            "\n",
            "Epoch 00032: LearningRateScheduler setting learning rate to 0.0002755074.\n",
            "118/118 [==============================] - 6s 50ms/step - loss: 4.6410 - acc: 0.9935 - val_loss: 4.6421 - val_acc: 0.9940\n",
            "Epoch 33/40\n",
            "\n",
            "Epoch 00033: LearningRateScheduler setting learning rate to 0.000267666.\n",
            "118/118 [==============================] - 6s 51ms/step - loss: 4.6401 - acc: 0.9940 - val_loss: 4.6421 - val_acc: 0.9932\n",
            "Epoch 34/40\n",
            "\n",
            "Epoch 00034: LearningRateScheduler setting learning rate to 0.0002602585.\n",
            "118/118 [==============================] - 6s 50ms/step - loss: 4.6404 - acc: 0.9940 - val_loss: 4.6436 - val_acc: 0.9932\n",
            "Epoch 35/40\n",
            "\n",
            "Epoch 00035: LearningRateScheduler setting learning rate to 0.00025325.\n",
            "118/118 [==============================] - 6s 50ms/step - loss: 4.6402 - acc: 0.9939 - val_loss: 4.6409 - val_acc: 0.9940\n",
            "Epoch 36/40\n",
            "\n",
            "Epoch 00036: LearningRateScheduler setting learning rate to 0.0002466091.\n",
            "118/118 [==============================] - 6s 51ms/step - loss: 4.6395 - acc: 0.9944 - val_loss: 4.6417 - val_acc: 0.9934\n",
            "Epoch 37/40\n",
            "\n",
            "Epoch 00037: LearningRateScheduler setting learning rate to 0.0002403076.\n",
            "118/118 [==============================] - 6s 50ms/step - loss: 4.6404 - acc: 0.9940 - val_loss: 4.6403 - val_acc: 0.9942\n",
            "Epoch 38/40\n",
            "\n",
            "Epoch 00038: LearningRateScheduler setting learning rate to 0.0002343201.\n",
            "118/118 [==============================] - 6s 50ms/step - loss: 4.6392 - acc: 0.9941 - val_loss: 4.6420 - val_acc: 0.9941\n",
            "Epoch 39/40\n",
            "\n",
            "Epoch 00039: LearningRateScheduler setting learning rate to 0.0002286237.\n",
            "118/118 [==============================] - 6s 51ms/step - loss: 4.6396 - acc: 0.9940 - val_loss: 4.6408 - val_acc: 0.9933\n",
            "Epoch 40/40\n",
            "\n",
            "Epoch 00040: LearningRateScheduler setting learning rate to 0.0002231977.\n",
            "118/118 [==============================] - 6s 50ms/step - loss: 4.6397 - acc: 0.9942 - val_loss: 4.6424 - val_acc: 0.9942\n"
          ],
          "name": "stdout"
        },
        {
          "output_type": "execute_result",
          "data": {
            "text/plain": [
              "<keras.callbacks.History at 0x7fc15a8e4e48>"
            ]
          },
          "metadata": {
            "tags": []
          },
          "execution_count": 14
        },
        {
          "output_type": "stream",
          "text": [
            "7\n"
          ],
          "name": "stdout"
        }
      ]
    },
    {
      "cell_type": "markdown",
      "metadata": {
        "id": "dftPBbBJQLGP",
        "colab_type": "text"
      },
      "source": [
        "# By Adding Batch Normalization Before Relu\n",
        "\n",
        "The model performs the following tasks \n",
        "\n",
        "1. Takes the activation layer outside of the convolution function\n",
        "2. Place Batch normalization function before the activation \n",
        "3. Trains the model for 40 epochs\n",
        "4. Saves the model with highest validation accuracy\n",
        "5. Saves the Model to google drive for future use"
      ]
    },
    {
      "cell_type": "code",
      "metadata": {
        "id": "pPRpY3ZsQPxw",
        "colab_type": "code",
        "colab": {
          "base_uri": "https://localhost:8080/",
          "height": 1000
        },
        "outputId": "3b4f63ab-2a04-43db-8aa9-689ae14438d5"
      },
      "source": [
        "model = Sequential()\n",
        "\n",
        "#model.add(BatchNormalization()) \n",
        "model.add(Convolution2D(8, 3, 3, input_shape=(28,28,1)))\n",
        "\n",
        "\n",
        "model.add(BatchNormalization())\n",
        "model.add(Activation('relu'))\n",
        "model.add(Dropout(0.1))\n",
        "\n",
        "model.add(Convolution2D(14, 3, 3))\n",
        "model.add(BatchNormalization())\n",
        "model.add(Activation('relu'))\n",
        "model.add(Dropout(0.1))\n",
        "                        \n",
        "\n",
        "\n",
        "model.add(Convolution2D(24, 3, 3))\n",
        "model.add(BatchNormalization())\n",
        "model.add(Activation('relu'))\n",
        "#model.add(Dropout(0.1))\n",
        "\n",
        "model.add(MaxPooling2D(pool_size=(2, 2)))\n",
        "model.add(Convolution2D(8, 1, 1))\n",
        "#model.add(BatchNormalization())\n",
        "model.add(Activation('relu'))\n",
        "#model.add(Dropout(0.1))\n",
        "\n",
        "#model.add(BatchNormalization())\n",
        "model.add(Convolution2D(16, 3, 3))\n",
        "model.add(BatchNormalization())\n",
        "model.add(Activation('relu'))                        \n",
        "model.add(Dropout(0.1))\n",
        "                        \n",
        "\n",
        "#model.add(BatchNormalization())\n",
        "model.add(Convolution2D(16, 3, 3))\n",
        "model.add(BatchNormalization())\n",
        "model.add(Activation('relu'))                          \n",
        "model.add(Dropout(0.1))\n",
        "                        \n",
        "\n",
        "#model.add(BatchNormalization())\n",
        "model.add(Convolution2D(24, 3, 3))\n",
        "model.add(BatchNormalization())\n",
        "model.add(Activation('relu'))                        \n",
        "model.add(Dropout(0.1))\n",
        "\n",
        "\n",
        "#model.add(BatchNormalization())\n",
        "model.add(Convolution2D(10, 1))\n",
        "model.add(BatchNormalization())\n",
        "model.add(Activation('relu'))                        \n",
        "model.add(Dropout(0.1))\n",
        "\n",
        "\n",
        "model.add(Convolution2D(10, 5))\n",
        "model.add(Flatten())\n",
        "model.add(Activation('softmax'))\n",
        "\n",
        "\n",
        "model.summary()\n",
        "\n",
        "def scheduler(epoch, lr):\n",
        "    return round(0.003 * 1/(1 + 0.319 * epoch), 10)\n",
        "es = EarlyStopping(\"val_acc\",patience=15,restore_best_weights=True)\n",
        "checkpoint = ModelCheckpoint(\"model.hdf5\", monitor='val_acc', verbose=0, save_best_only=True, mode='max')\n",
        "callbacks_list = [es,checkpoint,LearningRateScheduler(scheduler, verbose=1)]\n",
        "\n",
        "\n",
        "\n",
        "\n",
        "\n",
        "#model.compile(loss='categorical_crossentropy', optimizer=Adam(lr=0.003), metrics=['accuracy'])\n",
        "model.compile(loss=custom_loss, optimizer=Adam(lr=0.003), metrics=['accuracy'])\n",
        "\n",
        "\n",
        "datagen = ImageDataGenerator(featurewise_center=True, featurewise_std_normalization=True,)\n",
        "datagen.fit(X_train)\n",
        "\n",
        "model.fit_generator(datagen.flow(X_train, Y_train, batch_size=512,shuffle=True),\n",
        "                    steps_per_epoch=int(np.ceil(len(X_train)/512)), \n",
        "                    epochs=40, verbose=1, validation_data=datagen.flow(X_test, Y_test, batch_size=512,shuffle=True), \n",
        "                    validation_steps = int(np.ceil(len(X_test)/512)), \n",
        "                    callbacks=callbacks_list,)\n",
        "\n",
        "\n",
        "\n",
        "#model.fit(X_train, Y_train, batch_size=32, epochs=15, verbose=1, validation_data=(X_test, Y_test), callbacks=[LearningRateScheduler(scheduler, verbose=1)])\n",
        "\n",
        "\n",
        "model.load_weights(\"model.hdf5\")\n",
        "\n",
        "# steps=np.ceil(len(X_train)/1024)\n",
        "# since it is auto calculated by kera so don't fill  it\n",
        "\n",
        "# iterator = datagen.flow(X_train, Y_train, batch_size=1024, shuffle=False)\n",
        "# score = model.evaluate_generator(iterator,steps=len(iterator))\n",
        "\n",
        "# iterator = datagen.flow(X_train, Y_train, batch_size=1024, shuffle=False)\n",
        "# predictions = model.predict_generator(iterator,steps=len(iterator))\n",
        "\n",
        "# #_ = predictions(score, predictions,Y_train, classes=get_mnist_labels(),print_results=True, plot_results=False)\n",
        "\n",
        "\n",
        "# iterator = datagen.flow(X_test, Y_test, batch_size=512, shuffle=False)\n",
        "# score = model.evaluate_generator(iterator,steps=len(iterator))\n",
        "\n",
        "iterator = datagen.flow(X_test, Y_test, batch_size=512,shuffle=False)\n",
        "predictions = model.predict_generator(iterator,steps=len(iterator))\n",
        "predicted_class_indices=np.argmax(predictions,axis=1)\n",
        "print(predicted_class_indices[0])\n",
        "\n",
        "#_ = predictions(score, predictions,Y_test, classes=get_mnist_labels(),print_results=True, plot_results=False)\n",
        "\n",
        "\n",
        "# _=evaluate(model,X_train, Y_train,classes=get_mnist_labels(),print_results=True, plot_results=False)\n",
        "# _=evaluate(model,X_test, Y_test,classes=get_mnist_labels(),print_results=True, plot_results=False)\n",
        "\n",
        "\n",
        "\n",
        "\n",
        "# score = model.evaluate(X_test, Y_test, verbose=0)\n",
        "# print(score)\n",
        "\n",
        "\n",
        "# y_pred = model.predict(X_test)\n",
        "# print(y_pred[:9])\n",
        "# print(y_test[:9])\n",
        "\n"
      ],
      "execution_count": 12,
      "outputs": [
        {
          "output_type": "stream",
          "text": [
            "W0819 17:19:29.726257 140531037792128 deprecation_wrapper.py:119] From /usr/local/lib/python3.6/dist-packages/keras/optimizers.py:790: The name tf.train.Optimizer is deprecated. Please use tf.compat.v1.train.Optimizer instead.\n",
            "\n"
          ],
          "name": "stderr"
        },
        {
          "output_type": "stream",
          "text": [
            "_________________________________________________________________\n",
            "Layer (type)                 Output Shape              Param #   \n",
            "=================================================================\n",
            "conv2d_10 (Conv2D)           (None, 26, 26, 8)         80        \n",
            "_________________________________________________________________\n",
            "batch_normalization_8 (Batch (None, 26, 26, 8)         32        \n",
            "_________________________________________________________________\n",
            "activation_10 (Activation)   (None, 26, 26, 8)         0         \n",
            "_________________________________________________________________\n",
            "dropout_7 (Dropout)          (None, 26, 26, 8)         0         \n",
            "_________________________________________________________________\n",
            "conv2d_11 (Conv2D)           (None, 24, 24, 14)        1022      \n",
            "_________________________________________________________________\n",
            "batch_normalization_9 (Batch (None, 24, 24, 14)        56        \n",
            "_________________________________________________________________\n",
            "activation_11 (Activation)   (None, 24, 24, 14)        0         \n",
            "_________________________________________________________________\n",
            "dropout_8 (Dropout)          (None, 24, 24, 14)        0         \n",
            "_________________________________________________________________\n",
            "conv2d_12 (Conv2D)           (None, 22, 22, 24)        3048      \n",
            "_________________________________________________________________\n",
            "batch_normalization_10 (Batc (None, 22, 22, 24)        96        \n",
            "_________________________________________________________________\n",
            "activation_12 (Activation)   (None, 22, 22, 24)        0         \n",
            "_________________________________________________________________\n",
            "max_pooling2d_2 (MaxPooling2 (None, 11, 11, 24)        0         \n",
            "_________________________________________________________________\n",
            "conv2d_13 (Conv2D)           (None, 11, 11, 8)         200       \n",
            "_________________________________________________________________\n",
            "activation_13 (Activation)   (None, 11, 11, 8)         0         \n",
            "_________________________________________________________________\n",
            "conv2d_14 (Conv2D)           (None, 9, 9, 16)          1168      \n",
            "_________________________________________________________________\n",
            "batch_normalization_11 (Batc (None, 9, 9, 16)          64        \n",
            "_________________________________________________________________\n",
            "activation_14 (Activation)   (None, 9, 9, 16)          0         \n",
            "_________________________________________________________________\n",
            "dropout_9 (Dropout)          (None, 9, 9, 16)          0         \n",
            "_________________________________________________________________\n",
            "conv2d_15 (Conv2D)           (None, 7, 7, 16)          2320      \n",
            "_________________________________________________________________\n",
            "batch_normalization_12 (Batc (None, 7, 7, 16)          64        \n",
            "_________________________________________________________________\n",
            "activation_15 (Activation)   (None, 7, 7, 16)          0         \n",
            "_________________________________________________________________\n",
            "dropout_10 (Dropout)         (None, 7, 7, 16)          0         \n",
            "_________________________________________________________________\n",
            "conv2d_16 (Conv2D)           (None, 5, 5, 24)          3480      \n",
            "_________________________________________________________________\n",
            "batch_normalization_13 (Batc (None, 5, 5, 24)          96        \n",
            "_________________________________________________________________\n",
            "activation_16 (Activation)   (None, 5, 5, 24)          0         \n",
            "_________________________________________________________________\n",
            "dropout_11 (Dropout)         (None, 5, 5, 24)          0         \n",
            "_________________________________________________________________\n",
            "conv2d_17 (Conv2D)           (None, 5, 5, 10)          250       \n",
            "_________________________________________________________________\n",
            "batch_normalization_14 (Batc (None, 5, 5, 10)          40        \n",
            "_________________________________________________________________\n",
            "activation_17 (Activation)   (None, 5, 5, 10)          0         \n",
            "_________________________________________________________________\n",
            "dropout_12 (Dropout)         (None, 5, 5, 10)          0         \n",
            "_________________________________________________________________\n",
            "conv2d_18 (Conv2D)           (None, 1, 1, 10)          2510      \n",
            "_________________________________________________________________\n",
            "flatten_2 (Flatten)          (None, 10)                0         \n",
            "_________________________________________________________________\n",
            "activation_18 (Activation)   (None, 10)                0         \n",
            "=================================================================\n",
            "Total params: 14,526\n",
            "Trainable params: 14,302\n",
            "Non-trainable params: 224\n",
            "_________________________________________________________________\n",
            "Tensor(\"activation_18_target:0\", shape=(?, ?), dtype=float32)\n",
            "Tensor(\"activation_18/Softmax:0\", shape=(?, ?), dtype=float32)\n"
          ],
          "name": "stdout"
        },
        {
          "output_type": "stream",
          "text": [
            "W0819 17:19:30.968930 140531037792128 deprecation.py:323] From /usr/local/lib/python3.6/dist-packages/tensorflow/python/ops/math_grad.py:1250: add_dispatch_support.<locals>.wrapper (from tensorflow.python.ops.array_ops) is deprecated and will be removed in a future version.\n",
            "Instructions for updating:\n",
            "Use tf.where in 2.0, which has the same broadcast rule as np.where\n"
          ],
          "name": "stderr"
        },
        {
          "output_type": "stream",
          "text": [
            "Epoch 1/40\n",
            "\n",
            "Epoch 00001: LearningRateScheduler setting learning rate to 0.003.\n",
            "118/118 [==============================] - 8s 70ms/step - loss: 5.8127 - acc: 0.8643 - val_loss: 5.5670 - val_acc: 0.9399\n",
            "Epoch 2/40\n",
            "\n",
            "Epoch 00002: LearningRateScheduler setting learning rate to 0.0022744503.\n",
            "118/118 [==============================] - 3s 29ms/step - loss: 5.4635 - acc: 0.9697 - val_loss: 5.4325 - val_acc: 0.9794\n",
            "Epoch 3/40\n",
            "\n",
            "Epoch 00003: LearningRateScheduler setting learning rate to 0.0018315018.\n",
            "118/118 [==============================] - 3s 30ms/step - loss: 5.4377 - acc: 0.9773 - val_loss: 5.4147 - val_acc: 0.9834\n",
            "Epoch 4/40\n",
            "\n",
            "Epoch 00004: LearningRateScheduler setting learning rate to 0.0015329586.\n",
            "118/118 [==============================] - 3s 29ms/step - loss: 5.4263 - acc: 0.9808 - val_loss: 5.4016 - val_acc: 0.9892\n",
            "Epoch 5/40\n",
            "\n",
            "Epoch 00005: LearningRateScheduler setting learning rate to 0.0013181019.\n",
            "118/118 [==============================] - 3s 29ms/step - loss: 5.4165 - acc: 0.9836 - val_loss: 5.4008 - val_acc: 0.9878\n",
            "Epoch 6/40\n",
            "\n",
            "Epoch 00006: LearningRateScheduler setting learning rate to 0.0011560694.\n",
            "118/118 [==============================] - 3s 29ms/step - loss: 5.4109 - acc: 0.9855 - val_loss: 5.3920 - val_acc: 0.9915\n",
            "Epoch 7/40\n",
            "\n",
            "Epoch 00007: LearningRateScheduler setting learning rate to 0.0010295127.\n",
            "118/118 [==============================] - 3s 29ms/step - loss: 5.4075 - acc: 0.9864 - val_loss: 5.3925 - val_acc: 0.9907\n",
            "Epoch 8/40\n",
            "\n",
            "Epoch 00008: LearningRateScheduler setting learning rate to 0.0009279307.\n",
            "118/118 [==============================] - 3s 29ms/step - loss: 5.4063 - acc: 0.9866 - val_loss: 5.3907 - val_acc: 0.9918\n",
            "Epoch 9/40\n",
            "\n",
            "Epoch 00009: LearningRateScheduler setting learning rate to 0.0008445946.\n",
            "118/118 [==============================] - 3s 29ms/step - loss: 5.4017 - acc: 0.9879 - val_loss: 5.3890 - val_acc: 0.9921\n",
            "Epoch 10/40\n",
            "\n",
            "Epoch 00010: LearningRateScheduler setting learning rate to 0.0007749935.\n",
            "118/118 [==============================] - 3s 29ms/step - loss: 5.4007 - acc: 0.9884 - val_loss: 5.3871 - val_acc: 0.9920\n",
            "Epoch 11/40\n",
            "\n",
            "Epoch 00011: LearningRateScheduler setting learning rate to 0.0007159905.\n",
            "118/118 [==============================] - 3s 29ms/step - loss: 5.3993 - acc: 0.9890 - val_loss: 5.3874 - val_acc: 0.9923\n",
            "Epoch 12/40\n",
            "\n",
            "Epoch 00012: LearningRateScheduler setting learning rate to 0.000665336.\n",
            "118/118 [==============================] - 3s 29ms/step - loss: 5.3975 - acc: 0.9895 - val_loss: 5.3858 - val_acc: 0.9924\n",
            "Epoch 13/40\n",
            "\n",
            "Epoch 00013: LearningRateScheduler setting learning rate to 0.0006213753.\n",
            "118/118 [==============================] - 3s 29ms/step - loss: 5.3962 - acc: 0.9900 - val_loss: 5.3867 - val_acc: 0.9928\n",
            "Epoch 14/40\n",
            "\n",
            "Epoch 00014: LearningRateScheduler setting learning rate to 0.0005828638.\n",
            "118/118 [==============================] - 3s 29ms/step - loss: 5.3955 - acc: 0.9899 - val_loss: 5.3857 - val_acc: 0.9930\n",
            "Epoch 15/40\n",
            "\n",
            "Epoch 00015: LearningRateScheduler setting learning rate to 0.0005488474.\n",
            "118/118 [==============================] - 4s 30ms/step - loss: 5.3945 - acc: 0.9903 - val_loss: 5.3873 - val_acc: 0.9924\n",
            "Epoch 16/40\n",
            "\n",
            "Epoch 00016: LearningRateScheduler setting learning rate to 0.0005185825.\n",
            "118/118 [==============================] - 4s 30ms/step - loss: 5.3939 - acc: 0.9903 - val_loss: 5.3854 - val_acc: 0.9923\n",
            "Epoch 17/40\n",
            "\n",
            "Epoch 00017: LearningRateScheduler setting learning rate to 0.000491481.\n",
            "118/118 [==============================] - 4s 30ms/step - loss: 5.3927 - acc: 0.9908 - val_loss: 5.3848 - val_acc: 0.9933\n",
            "Epoch 18/40\n",
            "\n",
            "Epoch 00018: LearningRateScheduler setting learning rate to 0.0004670715.\n",
            "118/118 [==============================] - 3s 29ms/step - loss: 5.3924 - acc: 0.9911 - val_loss: 5.3852 - val_acc: 0.9932\n",
            "Epoch 19/40\n",
            "\n",
            "Epoch 00019: LearningRateScheduler setting learning rate to 0.0004449718.\n",
            "118/118 [==============================] - 3s 29ms/step - loss: 5.3914 - acc: 0.9914 - val_loss: 5.3840 - val_acc: 0.9933\n",
            "Epoch 20/40\n",
            "\n",
            "Epoch 00020: LearningRateScheduler setting learning rate to 0.000424869.\n",
            "118/118 [==============================] - 3s 30ms/step - loss: 5.3935 - acc: 0.9906 - val_loss: 5.3850 - val_acc: 0.9938\n",
            "Epoch 21/40\n",
            "\n",
            "Epoch 00021: LearningRateScheduler setting learning rate to 0.0004065041.\n",
            "118/118 [==============================] - 3s 29ms/step - loss: 5.3902 - acc: 0.9915 - val_loss: 5.3848 - val_acc: 0.9935\n",
            "Epoch 22/40\n",
            "\n",
            "Epoch 00022: LearningRateScheduler setting learning rate to 0.000389661.\n",
            "118/118 [==============================] - 3s 30ms/step - loss: 5.3903 - acc: 0.9911 - val_loss: 5.3846 - val_acc: 0.9931\n",
            "Epoch 23/40\n",
            "\n",
            "Epoch 00023: LearningRateScheduler setting learning rate to 0.0003741581.\n",
            "118/118 [==============================] - 3s 30ms/step - loss: 5.3896 - acc: 0.9916 - val_loss: 5.3849 - val_acc: 0.9934\n",
            "Epoch 24/40\n",
            "\n",
            "Epoch 00024: LearningRateScheduler setting learning rate to 0.0003598417.\n",
            "118/118 [==============================] - 3s 29ms/step - loss: 5.3889 - acc: 0.9920 - val_loss: 5.3860 - val_acc: 0.9933\n",
            "Epoch 25/40\n",
            "\n",
            "Epoch 00025: LearningRateScheduler setting learning rate to 0.0003465804.\n",
            "118/118 [==============================] - 3s 29ms/step - loss: 5.3902 - acc: 0.9920 - val_loss: 5.3840 - val_acc: 0.9936\n",
            "Epoch 26/40\n",
            "\n",
            "Epoch 00026: LearningRateScheduler setting learning rate to 0.0003342618.\n",
            "118/118 [==============================] - 3s 29ms/step - loss: 5.3892 - acc: 0.9916 - val_loss: 5.3849 - val_acc: 0.9933\n",
            "Epoch 27/40\n",
            "\n",
            "Epoch 00027: LearningRateScheduler setting learning rate to 0.0003227889.\n",
            "118/118 [==============================] - 3s 29ms/step - loss: 5.3879 - acc: 0.9924 - val_loss: 5.3847 - val_acc: 0.9937\n",
            "Epoch 28/40\n",
            "\n",
            "Epoch 00028: LearningRateScheduler setting learning rate to 0.0003120774.\n",
            "118/118 [==============================] - 3s 29ms/step - loss: 5.3885 - acc: 0.9923 - val_loss: 5.3850 - val_acc: 0.9938\n",
            "Epoch 29/40\n",
            "\n",
            "Epoch 00029: LearningRateScheduler setting learning rate to 0.000302054.\n",
            "118/118 [==============================] - 3s 29ms/step - loss: 5.3879 - acc: 0.9922 - val_loss: 5.3845 - val_acc: 0.9935\n",
            "Epoch 30/40\n",
            "\n",
            "Epoch 00030: LearningRateScheduler setting learning rate to 0.0002926544.\n",
            "118/118 [==============================] - 3s 29ms/step - loss: 5.3873 - acc: 0.9922 - val_loss: 5.3834 - val_acc: 0.9938\n",
            "Epoch 31/40\n",
            "\n",
            "Epoch 00031: LearningRateScheduler setting learning rate to 0.0002838221.\n",
            "118/118 [==============================] - 3s 29ms/step - loss: 5.3873 - acc: 0.9926 - val_loss: 5.3844 - val_acc: 0.9935\n",
            "Epoch 32/40\n",
            "\n",
            "Epoch 00032: LearningRateScheduler setting learning rate to 0.0002755074.\n",
            "118/118 [==============================] - 3s 29ms/step - loss: 5.3865 - acc: 0.9928 - val_loss: 5.3836 - val_acc: 0.9933\n",
            "Epoch 33/40\n",
            "\n",
            "Epoch 00033: LearningRateScheduler setting learning rate to 0.000267666.\n",
            "118/118 [==============================] - 3s 30ms/step - loss: 5.3870 - acc: 0.9924 - val_loss: 5.3845 - val_acc: 0.9936\n",
            "Epoch 34/40\n",
            "\n",
            "Epoch 00034: LearningRateScheduler setting learning rate to 0.0002602585.\n",
            "118/118 [==============================] - 3s 29ms/step - loss: 5.3869 - acc: 0.9929 - val_loss: 5.3846 - val_acc: 0.9939\n",
            "Epoch 35/40\n",
            "\n",
            "Epoch 00035: LearningRateScheduler setting learning rate to 0.00025325.\n",
            "118/118 [==============================] - 3s 29ms/step - loss: 5.3862 - acc: 0.9927 - val_loss: 5.3829 - val_acc: 0.9940\n",
            "Epoch 36/40\n",
            "\n",
            "Epoch 00036: LearningRateScheduler setting learning rate to 0.0002466091.\n",
            "118/118 [==============================] - 3s 29ms/step - loss: 5.3870 - acc: 0.9923 - val_loss: 5.3843 - val_acc: 0.9935\n",
            "Epoch 37/40\n",
            "\n",
            "Epoch 00037: LearningRateScheduler setting learning rate to 0.0002403076.\n",
            "118/118 [==============================] - 3s 29ms/step - loss: 5.3865 - acc: 0.9926 - val_loss: 5.3835 - val_acc: 0.9939\n",
            "Epoch 38/40\n",
            "\n",
            "Epoch 00038: LearningRateScheduler setting learning rate to 0.0002343201.\n",
            "118/118 [==============================] - 3s 29ms/step - loss: 5.3866 - acc: 0.9929 - val_loss: 5.3831 - val_acc: 0.9941\n",
            "Epoch 39/40\n",
            "\n",
            "Epoch 00039: LearningRateScheduler setting learning rate to 0.0002286237.\n",
            "118/118 [==============================] - 3s 29ms/step - loss: 5.3858 - acc: 0.9932 - val_loss: 5.3832 - val_acc: 0.9937\n",
            "Epoch 40/40\n",
            "\n",
            "Epoch 00040: LearningRateScheduler setting learning rate to 0.0002231977.\n",
            "118/118 [==============================] - 3s 29ms/step - loss: 5.3856 - acc: 0.9931 - val_loss: 5.3841 - val_acc: 0.9941\n"
          ],
          "name": "stdout"
        },
        {
          "output_type": "execute_result",
          "data": {
            "text/plain": [
              "<keras.callbacks.History at 0x7fcf37107a20>"
            ]
          },
          "metadata": {
            "tags": []
          },
          "execution_count": 12
        },
        {
          "output_type": "stream",
          "text": [
            "7\n"
          ],
          "name": "stdout"
        }
      ]
    },
    {
      "cell_type": "markdown",
      "metadata": {
        "id": "yOh-apwDQRSI",
        "colab_type": "text"
      },
      "source": [
        "# Save the Model to Google Drive for Future Use"
      ]
    },
    {
      "cell_type": "code",
      "metadata": {
        "id": "UO1iHRTMzlPG",
        "colab_type": "code",
        "colab": {}
      },
      "source": [
        "model.save('gdrive/My Drive/Colab Notebooks/model_3.hdf5')"
      ],
      "execution_count": 0,
      "outputs": []
    },
    {
      "cell_type": "markdown",
      "metadata": {
        "id": "9-yXLCp9QUnb",
        "colab_type": "text"
      },
      "source": [
        "# Display the Misclassified Images (25)\n",
        "\n",
        "Display the first 25 misclassified images\n",
        "\n",
        "The image should include the Predicted Class and Actual Class"
      ]
    },
    {
      "cell_type": "code",
      "metadata": {
        "id": "vSF-Kvlt3eoV",
        "colab_type": "code",
        "colab": {}
      },
      "source": [
        ""
      ],
      "execution_count": 0,
      "outputs": []
    },
    {
      "cell_type": "code",
      "metadata": {
        "id": "p8h4Mto8ANf8",
        "colab_type": "code",
        "colab": {
          "base_uri": "https://localhost:8080/",
          "height": 753
        },
        "outputId": "896b3bc0-6ac5-4d8b-f387-54d0817551b3"
      },
      "source": [
        "%matplotlib inline\n",
        "#y_pred = model.predict_classes(X_test)\n",
        "X_test = X_test.reshape(X_test.shape[0], 28, 28)\n",
        "image_cnt = 0\n",
        "#display_cnt=1\n",
        "w=10\n",
        "h=10\n",
        "fig=plt.figure(figsize=(12, 12))\n",
        "columns = 5\n",
        "rows = 5\n",
        "\n",
        "for i in range(len(predicted_class_indices)):\n",
        " # print('value of i before is',i)\n",
        "  if predicted_class_indices[i] != y_test[i]:\n",
        "    ax = fig.add_subplot(rows, columns, image_cnt+1)\n",
        "    title = 'Pred-' + str(predicted_class_indices[i]) +'Actual-' + str(y_test[i] )\n",
        "   # ax.title.set_text('                      ' )\n",
        "    ax.title.set_text(title )\n",
        "    \n",
        "    plt.imshow(X_test[i])\n",
        "    image_cnt +=1\n",
        "    #display_cnt +=1\n",
        "   # print('value of image count is', image_cnt)  \n",
        "  if image_cnt >= 25:\n",
        "    break\n",
        "    i = len(y_pred)\n",
        "   # print(' length of ypred is',len(y_pred),'and value of i now is',i)\n",
        "\n",
        "plt.subplots_adjust(hspace=0.5, wspace=0.5)\n",
        "plt.show()    \n",
        "\n",
        "    \n",
        "    \n"
      ],
      "execution_count": 16,
      "outputs": [
        {
          "output_type": "execute_result",
          "data": {
            "text/plain": [
              "<matplotlib.image.AxesImage at 0x7fcf2bdabb00>"
            ]
          },
          "metadata": {
            "tags": []
          },
          "execution_count": 16
        },
        {
          "output_type": "execute_result",
          "data": {
            "text/plain": [
              "<matplotlib.image.AxesImage at 0x7fcf2bce2748>"
            ]
          },
          "metadata": {
            "tags": []
          },
          "execution_count": 16
        },
        {
          "output_type": "execute_result",
          "data": {
            "text/plain": [
              "<matplotlib.image.AxesImage at 0x7fcf2bc89e80>"
            ]
          },
          "metadata": {
            "tags": []
          },
          "execution_count": 16
        },
        {
          "output_type": "execute_result",
          "data": {
            "text/plain": [
              "<matplotlib.image.AxesImage at 0x7fcf2bcbb6d8>"
            ]
          },
          "metadata": {
            "tags": []
          },
          "execution_count": 16
        },
        {
          "output_type": "execute_result",
          "data": {
            "text/plain": [
              "<matplotlib.image.AxesImage at 0x7fcf2bc64ef0>"
            ]
          },
          "metadata": {
            "tags": []
          },
          "execution_count": 16
        },
        {
          "output_type": "execute_result",
          "data": {
            "text/plain": [
              "<matplotlib.image.AxesImage at 0x7fcf2bc13748>"
            ]
          },
          "metadata": {
            "tags": []
          },
          "execution_count": 16
        },
        {
          "output_type": "execute_result",
          "data": {
            "text/plain": [
              "<matplotlib.image.AxesImage at 0x7fcf2bbbdf98>"
            ]
          },
          "metadata": {
            "tags": []
          },
          "execution_count": 16
        },
        {
          "output_type": "execute_result",
          "data": {
            "text/plain": [
              "<matplotlib.image.AxesImage at 0x7fcf2bbec7b8>"
            ]
          },
          "metadata": {
            "tags": []
          },
          "execution_count": 16
        },
        {
          "output_type": "execute_result",
          "data": {
            "text/plain": [
              "<matplotlib.image.AxesImage at 0x7fcf2bb94fd0>"
            ]
          },
          "metadata": {
            "tags": []
          },
          "execution_count": 16
        },
        {
          "output_type": "execute_result",
          "data": {
            "text/plain": [
              "<matplotlib.image.AxesImage at 0x7fcf2bb45828>"
            ]
          },
          "metadata": {
            "tags": []
          },
          "execution_count": 16
        },
        {
          "output_type": "execute_result",
          "data": {
            "text/plain": [
              "<matplotlib.image.AxesImage at 0x7fcf2bb79080>"
            ]
          },
          "metadata": {
            "tags": []
          },
          "execution_count": 16
        },
        {
          "output_type": "execute_result",
          "data": {
            "text/plain": [
              "<matplotlib.image.AxesImage at 0x7fcf2bb1f898>"
            ]
          },
          "metadata": {
            "tags": []
          },
          "execution_count": 16
        },
        {
          "output_type": "execute_result",
          "data": {
            "text/plain": [
              "<matplotlib.image.AxesImage at 0x7fcf2bad00f0>"
            ]
          },
          "metadata": {
            "tags": []
          },
          "execution_count": 16
        },
        {
          "output_type": "execute_result",
          "data": {
            "text/plain": [
              "<matplotlib.image.AxesImage at 0x7fcf2baf9908>"
            ]
          },
          "metadata": {
            "tags": []
          },
          "execution_count": 16
        },
        {
          "output_type": "execute_result",
          "data": {
            "text/plain": [
              "<matplotlib.image.AxesImage at 0x7fcf2baac160>"
            ]
          },
          "metadata": {
            "tags": []
          },
          "execution_count": 16
        },
        {
          "output_type": "execute_result",
          "data": {
            "text/plain": [
              "<matplotlib.image.AxesImage at 0x7fcf2ba52978>"
            ]
          },
          "metadata": {
            "tags": []
          },
          "execution_count": 16
        },
        {
          "output_type": "execute_result",
          "data": {
            "text/plain": [
              "<matplotlib.image.AxesImage at 0x7fcf2ba051d0>"
            ]
          },
          "metadata": {
            "tags": []
          },
          "execution_count": 16
        },
        {
          "output_type": "execute_result",
          "data": {
            "text/plain": [
              "<matplotlib.image.AxesImage at 0x7fcf2ba2d9e8>"
            ]
          },
          "metadata": {
            "tags": []
          },
          "execution_count": 16
        },
        {
          "output_type": "execute_result",
          "data": {
            "text/plain": [
              "<matplotlib.image.AxesImage at 0x7fcf2b9dd240>"
            ]
          },
          "metadata": {
            "tags": []
          },
          "execution_count": 16
        },
        {
          "output_type": "execute_result",
          "data": {
            "text/plain": [
              "<matplotlib.image.AxesImage at 0x7fcf2b987a58>"
            ]
          },
          "metadata": {
            "tags": []
          },
          "execution_count": 16
        },
        {
          "output_type": "execute_result",
          "data": {
            "text/plain": [
              "<matplotlib.image.AxesImage at 0x7fcf2b9b72b0>"
            ]
          },
          "metadata": {
            "tags": []
          },
          "execution_count": 16
        },
        {
          "output_type": "execute_result",
          "data": {
            "text/plain": [
              "<matplotlib.image.AxesImage at 0x7fcf2b95dac8>"
            ]
          },
          "metadata": {
            "tags": []
          },
          "execution_count": 16
        },
        {
          "output_type": "execute_result",
          "data": {
            "text/plain": [
              "<matplotlib.image.AxesImage at 0x7fcf2b911320>"
            ]
          },
          "metadata": {
            "tags": []
          },
          "execution_count": 16
        },
        {
          "output_type": "execute_result",
          "data": {
            "text/plain": [
              "<matplotlib.image.AxesImage at 0x7fcf2b939b38>"
            ]
          },
          "metadata": {
            "tags": []
          },
          "execution_count": 16
        },
        {
          "output_type": "execute_result",
          "data": {
            "text/plain": [
              "<matplotlib.image.AxesImage at 0x7fcf2b8ea390>"
            ]
          },
          "metadata": {
            "tags": []
          },
          "execution_count": 16
        },
        {
          "output_type": "display_data",
          "data": {
            "image/png": "[encoded data removed]",
            "text/plain": [
              "<Figure size 864x864 with 25 Axes>"
            ]
          },
          "metadata": {
            "tags": []
          }
        }
      ]
    },
    {
      "cell_type": "markdown",
      "metadata": {
        "id": "gTk8juueQcXY",
        "colab_type": "text"
      },
      "source": [
        "# Find out the Total number of misclassified images"
      ]
    },
    {
      "cell_type": "code",
      "metadata": {
        "id": "riY37-K0Jjgc",
        "colab_type": "code",
        "colab": {
          "base_uri": "https://localhost:8080/",
          "height": 34
        },
        "outputId": "dd1f7c18-8dad-43fb-f57a-79e8df405c16"
      },
      "source": [
        "#y_pred = model.predict_classes(X_test)\n",
        "X_test = X_test.reshape(X_test.shape[0], 28, 28)\n",
        "count1 =0\n",
        "for i in range(len(predicted_class_indices)):\n",
        " # print('value of i before is',i)\n",
        "  if predicted_class_indices[i] != y_test[i]:\n",
        "    count1 +=1\n",
        "print('count is', count1)\n",
        "\n",
        "\n"
      ],
      "execution_count": 17,
      "outputs": [
        {
          "output_type": "stream",
          "text": [
            "count is 59\n"
          ],
          "name": "stdout"
        }
      ]
    },
    {
      "cell_type": "code",
      "metadata": {
        "id": "F9tpU-DKOIbO",
        "colab_type": "code",
        "colab": {}
      },
      "source": [
        ""
      ],
      "execution_count": 0,
      "outputs": []
    }
  ]
}